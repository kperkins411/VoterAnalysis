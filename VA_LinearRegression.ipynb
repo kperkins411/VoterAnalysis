{
 "cells": [
  {
   "cell_type": "markdown",
   "metadata": {
    "heading_collapsed": true
   },
   "source": [
    "# Introduction\n",
    "This is the random forest learner associated with Voter Analysis.\n",
    "Please be sure to run DataCleaning.ipynb first to prepare the data"
   ]
  },
  {
   "cell_type": "markdown",
   "metadata": {
    "heading_collapsed": true,
    "hidden": true
   },
   "source": [
    "## Imports\n",
    "Import libraries and write settings here."
   ]
  },
  {
   "cell_type": "code",
   "execution_count": 1,
   "metadata": {
    "hidden": true
   },
   "outputs": [
    {
     "data": {
      "text/html": [
       "<script type=\"text/javascript\">window.PlotlyConfig = {MathJaxConfig: 'local'};</script><script type=\"text/javascript\">if (window.MathJax) {MathJax.Hub.Config({SVG: {font: \"STIX-Web\"}});}</script><script>requirejs.config({paths: { 'plotly': ['https://cdn.plot.ly/plotly-latest.min']},});if(!window._Plotly) {require(['plotly'],function(plotly) {window._Plotly=plotly;});}</script>"
      ],
      "text/vnd.plotly.v1+html": [
       "<script type=\"text/javascript\">window.PlotlyConfig = {MathJaxConfig: 'local'};</script><script type=\"text/javascript\">if (window.MathJax) {MathJax.Hub.Config({SVG: {font: \"STIX-Web\"}});}</script><script>requirejs.config({paths: { 'plotly': ['https://cdn.plot.ly/plotly-latest.min']},});if(!window._Plotly) {require(['plotly'],function(plotly) {window._Plotly=plotly;});}</script>"
      ]
     },
     "metadata": {},
     "output_type": "display_data"
    },
    {
     "data": {
      "text/html": [
       "<script type=\"text/javascript\">window.PlotlyConfig = {MathJaxConfig: 'local'};</script><script type=\"text/javascript\">if (window.MathJax) {MathJax.Hub.Config({SVG: {font: \"STIX-Web\"}});}</script><script>requirejs.config({paths: { 'plotly': ['https://cdn.plot.ly/plotly-latest.min']},});if(!window._Plotly) {require(['plotly'],function(plotly) {window._Plotly=plotly;});}</script>"
      ],
      "text/vnd.plotly.v1+html": [
       "<script type=\"text/javascript\">window.PlotlyConfig = {MathJaxConfig: 'local'};</script><script type=\"text/javascript\">if (window.MathJax) {MathJax.Hub.Config({SVG: {font: \"STIX-Web\"}});}</script><script>requirejs.config({paths: { 'plotly': ['https://cdn.plot.ly/plotly-latest.min']},});if(!window._Plotly) {require(['plotly'],function(plotly) {window._Plotly=plotly;});}</script>"
      ]
     },
     "metadata": {},
     "output_type": "display_data"
    }
   ],
   "source": [
    "from fastai.tabular import *\n",
    "from fastai import *\n",
    "\n",
    "# Data manipulation\n",
    "import pandas as pd\n",
    "import numpy as np\n",
    "\n",
    "# Options for pandas\n",
    "pd.options.display.max_columns = 60\n",
    "pd.options.display.max_rows = 60\n",
    "\n",
    "# Display all cell outputs\n",
    "from IPython.core.interactiveshell import InteractiveShell\n",
    "InteractiveShell.ast_node_interactivity = 'all'\n",
    "\n",
    "from IPython import get_ipython\n",
    "ipython = get_ipython()\n",
    "\n",
    "# autoreload extension\n",
    "if 'autoreload' not in ipython.extension_manager.loaded:\n",
    "    %load_ext autoreload\n",
    "\n",
    "%autoreload 2\n",
    "\n",
    "# Visualizations\n",
    "import plotly.plotly as py\n",
    "import plotly.graph_objs as go\n",
    "from plotly.offline import iplot, init_notebook_mode\n",
    "init_notebook_mode(connected=True)\n",
    "\n",
    "import cufflinks as cf\n",
    "cf.go_offline(connected=True)\n",
    "cf.set_config_file(theme='white')\n",
    "\n"
   ]
  },
  {
   "cell_type": "markdown",
   "metadata": {},
   "source": [
    "# Load train/test and catagorical and continuous column names\n",
    "If either of the following fail then please be sure to run DataCleaning.ipynb first to prepare the data"
   ]
  },
  {
   "cell_type": "code",
   "execution_count": 2,
   "metadata": {},
   "outputs": [],
   "source": [
    "trn = pd.read_feather('tmp/train')\n",
    "tst = pd.read_feather('tmp/tst')"
   ]
  },
  {
   "cell_type": "code",
   "execution_count": 3,
   "metadata": {},
   "outputs": [],
   "source": [
    "with open('tmp/catcont.json') as f:\n",
    "    data1 = json.load(f)\n",
    "\n",
    "    res_cont = data1[0]\n",
    "    res_cat = data1[1] \n",
    "    columns_dep_var = data1[2][0]\n",
    "    \n",
    "# res_cont\n",
    "# res_cat"
   ]
  },
  {
   "cell_type": "code",
   "execution_count": 4,
   "metadata": {},
   "outputs": [],
   "source": [
    "#remove the dependant variable\n",
    "res_cont = [x for x in res_cont if x not in columns_dep_var]\n",
    "res_cat = [x for x in res_cat if x not in columns_dep_var]"
   ]
  },
  {
   "cell_type": "code",
   "execution_count": 5,
   "metadata": {},
   "outputs": [
    {
     "name": "stdout",
     "output_type": "stream",
     "text": [
      "36801\n",
      "4089\n"
     ]
    }
   ],
   "source": [
    "#convert trumpgevote to long (otherwise fit fails)\n",
    "trn[columns_dep_var] = trn[columns_dep_var].astype('int64');\n",
    "tst[columns_dep_var] = tst[columns_dep_var].astype('int64');\n",
    "\n",
    "print(str(len(trn)))\n",
    "print(str(len(tst)))"
   ]
  },
  {
   "cell_type": "markdown",
   "metadata": {},
   "source": [
    "## Categorify and Fill Missing"
   ]
  },
  {
   "cell_type": "code",
   "execution_count": 6,
   "metadata": {},
   "outputs": [],
   "source": [
    "#from docs https://docs.fast.ai/tabular.transform.html\n",
    "tfm = Categorify(cat_names=res_cat, cont_names=res_cont)\n",
    "tfm(trn)\n",
    "tfm(tst)"
   ]
  },
  {
   "cell_type": "code",
   "execution_count": 7,
   "metadata": {},
   "outputs": [
    {
     "data": {
      "text/plain": [
       "Int64Index([0, 1], dtype='int64')"
      ]
     },
     "execution_count": 7,
     "metadata": {},
     "output_type": "execute_result"
    },
    {
     "data": {
      "text/plain": [
       "Int64Index([0, 1], dtype='int64')"
      ]
     },
     "execution_count": 7,
     "metadata": {},
     "output_type": "execute_result"
    }
   ],
   "source": [
    "#just checking to see if it works on any old variable\n",
    "trn[res_cat[0]].cat.categories\n",
    "tst[res_cat[0]].cat.categories"
   ]
  },
  {
   "cell_type": "code",
   "execution_count": 8,
   "metadata": {},
   "outputs": [],
   "source": [
    "tfm1 = FillMissing(cat_names=res_cat, cont_names=res_cont)\n",
    "tfm1(trn)\n",
    "tfm1(tst)"
   ]
  },
  {
   "cell_type": "markdown",
   "metadata": {},
   "source": [
    "## Clean up any missing columns that result from unfortunate test selection"
   ]
  },
  {
   "cell_type": "code",
   "execution_count": 9,
   "metadata": {},
   "outputs": [],
   "source": [
    "trn_y=trn[columns_dep_var].copy()\n",
    "trn=trn.drop(columns_dep_var,axis=1)\n",
    "\n",
    "tst_y=tst[columns_dep_var].copy()\n",
    "tst=tst.drop(columns_dep_var,axis=1)\n",
    "\n",
    "# trn.T\n",
    "# trn_y"
   ]
  },
  {
   "cell_type": "code",
   "execution_count": 20,
   "metadata": {},
   "outputs": [
    {
     "data": {
      "text/plain": [
       "36801"
      ]
     },
     "execution_count": 20,
     "metadata": {},
     "output_type": "execute_result"
    },
    {
     "data": {
      "text/plain": [
       "4089"
      ]
     },
     "execution_count": 20,
     "metadata": {},
     "output_type": "execute_result"
    }
   ],
   "source": [
    "len(trn)\n",
    "len(tst)"
   ]
  },
  {
   "cell_type": "code",
   "execution_count": 10,
   "metadata": {},
   "outputs": [
    {
     "name": "stdout",
     "output_type": "stream",
     "text": [
      "Total trn columns = 53, total tst columns = 52\n",
      "Total trn columns with Nans= 0\n",
      "Total tst columns with Nans= 0\n"
     ]
    }
   ],
   "source": [
    "#You cannot have any Nan (missing data) fields or random forest will not work.\n",
    "print(f\"Total trn columns = {len(trn.columns)}, total tst columns = {len(tst.columns)}\") \n",
    "print(f\"Total trn columns with Nans= {len(trn.columns[trn.isnull().any()])}\") #add ~ to get columns with no missing values\n",
    "print(f\"Total tst columns with Nans= {len(tst.columns[tst.isnull().any()])}\") #add ~ to get columns with no missing values"
   ]
  },
  {
   "cell_type": "code",
   "execution_count": 11,
   "metadata": {},
   "outputs": [
    {
     "data": {
      "text/plain": [
       "set()"
      ]
     },
     "execution_count": 11,
     "metadata": {},
     "output_type": "execute_result"
    },
    {
     "data": {
      "text/plain": [
       "{'cc.catholic_na'}"
      ]
     },
     "execution_count": 11,
     "metadata": {},
     "output_type": "execute_result"
    }
   ],
   "source": [
    "#hmmm if either has 1 more column than train then see what it is\n",
    "set(tst.columns)-set(trn.columns)\n",
    "set(trn.columns)-set(tst.columns)"
   ]
  },
  {
   "cell_type": "code",
   "execution_count": 33,
   "metadata": {},
   "outputs": [
    {
     "data": {
      "text/plain": [
       "Index(['cc.blackdum', 'econ.mhi', 'cc.sex', 'cc.maxeduc.4yr', 'econ.hhpov.p',\n",
       "       'mort.ucd.despair.disc95.pdpy', 'cc.union', 'cc.age', 'demo.popdense',\n",
       "       'cc.emp.nojob', 'rustpc', 'taa.wrks.disc95.pcpy', 'cc.faminc',\n",
       "       'crashpc', 'cc.newsint', 'cc.isimmigrant', 'cc.catholic',\n",
       "       'cc.cc16_305_2', 'job.uer', 'cc.child18', 'cc.evanprot', 'cc.whitedum',\n",
       "       'cc.religiosity', 'cc.cc16_351b', 'cc.cc16_307', 'cc.immviewsum',\n",
       "       'cc.cc16_304', 'cc.inddum', 'cc.ideo7', 'cc.raceviewsum', 'cc.repdum',\n",
       "       'econ.mhi_na', 'econ.hhpov.p_na', 'mort.ucd.despair.disc95.pdpy_na',\n",
       "       'cc.union_na', 'demo.popdense_na', 'rustpc_na',\n",
       "       'taa.wrks.disc95.pcpy_na', 'cc.faminc_na', 'crashpc_na',\n",
       "       'cc.newsint_na', 'cc.catholic_na', 'job.uer_na', 'cc.child18_na',\n",
       "       'cc.evanprot_na', 'cc.religiosity_na', 'cc.cc16_351b_na',\n",
       "       'cc.cc16_307_na', 'cc.cc16_304_na', 'cc.inddum_na', 'cc.ideo7_na',\n",
       "       'cc.raceviewsum_na', 'cc.repdum_na'],\n",
       "      dtype='object')"
      ]
     },
     "execution_count": 33,
     "metadata": {},
     "output_type": "execute_result"
    }
   ],
   "source": [
    "trn.columns"
   ]
  },
  {
   "cell_type": "code",
   "execution_count": 12,
   "metadata": {},
   "outputs": [],
   "source": [
    "#missing one of the _na columns.  This is added, and set to 1, when a variable has an NaN value to mark\n",
    "#columns that have NaNs"
   ]
  },
  {
   "cell_type": "code",
   "execution_count": 13,
   "metadata": {},
   "outputs": [
    {
     "data": {
      "text/plain": [
       "41"
      ]
     },
     "execution_count": 13,
     "metadata": {},
     "output_type": "execute_result"
    },
    {
     "data": {
      "text/plain": [
       "pandas.core.indexes.base.Index"
      ]
     },
     "execution_count": 13,
     "metadata": {},
     "output_type": "execute_result"
    }
   ],
   "source": [
    "#find the index of the column in trn\n",
    "idx=trn.columns.tolist().index('cc.catholic_na')\n",
    "idx\n",
    "type(trn.columns)"
   ]
  },
  {
   "cell_type": "code",
   "execution_count": 14,
   "metadata": {},
   "outputs": [],
   "source": [
    "tst.insert(loc=idx, column='cc.catholic_na', value=False)"
   ]
  },
  {
   "cell_type": "markdown",
   "metadata": {},
   "source": [
    "# Linear Regression"
   ]
  },
  {
   "cell_type": "code",
   "execution_count": 38,
   "metadata": {},
   "outputs": [],
   "source": [
    "from sklearn.linear_model import LogisticRegression\n",
    "from sklearn.model_selection import cross_val_score\n",
    "\n",
    "lr = LogisticRegression(C=100, solver = 'lbfgs', max_iter=2000, n_jobs=-1).fit(trn, trn_y)"
   ]
  },
  {
   "cell_type": "markdown",
   "metadata": {},
   "source": [
    "## Cross validate scores"
   ]
  },
  {
   "cell_type": "code",
   "execution_count": 34,
   "metadata": {},
   "outputs": [
    {
     "name": "stderr",
     "output_type": "stream",
     "text": [
      "/home/keith/anaconda3/envs/fastai/lib/python3.6/site-packages/sklearn/linear_model/logistic.py:757: ConvergenceWarning:\n",
      "\n",
      "lbfgs failed to converge. Increase the number of iterations.\n",
      "\n"
     ]
    },
    {
     "name": "stdout",
     "output_type": "stream",
     "text": [
      "CV scores: [0.913735 0.905176 0.909647 0.910326 0.913168]\n",
      "CV scores mean: 0.9104101700292342\n"
     ]
    },
    {
     "name": "stderr",
     "output_type": "stream",
     "text": [
      "/home/keith/anaconda3/envs/fastai/lib/python3.6/site-packages/sklearn/linear_model/logistic.py:757: ConvergenceWarning:\n",
      "\n",
      "lbfgs failed to converge. Increase the number of iterations.\n",
      "\n"
     ]
    }
   ],
   "source": [
    "all = pd.concat([trn.copy(), tst.copy()])\n",
    "all_y = pd.concat([trn_y.copy(), tst_y.copy()])\n",
    "\n",
    "scores = cross_val_score(lr, trn, trn_y, cv=5) # Cross-validating the model on the whole dataset\n",
    "\n",
    "print(\"CV scores: {}\".format(scores))\n",
    "print(\"CV scores mean: {}\".format(scores.mean()))"
   ]
  },
  {
   "cell_type": "markdown",
   "metadata": {},
   "source": [
    "# Test the model on test data"
   ]
  },
  {
   "cell_type": "code",
   "execution_count": 35,
   "metadata": {},
   "outputs": [],
   "source": [
    "def eval_accuracy(preds,targs):\n",
    "    totals = len(preds)\n",
    "    matches = 0\n",
    "    for x in zip(preds,targs):\n",
    "        if x[0]==x[1]:\n",
    "            matches+=1\n",
    "    print(f\"Got {matches} right out of {totals} samples, Accuracy is {100*matches/totals} percent\")"
   ]
  },
  {
   "cell_type": "code",
   "execution_count": 39,
   "metadata": {},
   "outputs": [],
   "source": [
    "#do it the hard way one at a time\n",
    "preds1 = lr.predict(tst)"
   ]
  },
  {
   "cell_type": "code",
   "execution_count": 40,
   "metadata": {},
   "outputs": [
    {
     "name": "stdout",
     "output_type": "stream",
     "text": [
      "Got 3729 right out of 4089 samples, Accuracy is 91.19589141599413 percent\n"
     ]
    }
   ],
   "source": [
    "eval_accuracy(preds1,tst_y)"
   ]
  },
  {
   "cell_type": "markdown",
   "metadata": {},
   "source": [
    "## Check outputs of both methods"
   ]
  },
  {
   "cell_type": "code",
   "execution_count": null,
   "metadata": {},
   "outputs": [],
   "source": [
    "print(f\"Targets same values are ={len([1 for x,y in zip(targets,targets1) if x==y])}\")\n",
    "print(f\"Predictions same values are ={len([1 for x,y in zip(preds,preds1) if x==y])}\")"
   ]
  },
  {
   "cell_type": "code",
   "execution_count": null,
   "metadata": {},
   "outputs": [],
   "source": [
    "from fastai.callbacks import *\n",
    "from fastai.callbacks.hooks import *\n",
    "print(model_summary(learn))"
   ]
  },
  {
   "cell_type": "markdown",
   "metadata": {},
   "source": [
    "# Results\n",
    "Show graphs and stats here"
   ]
  },
  {
   "cell_type": "markdown",
   "metadata": {},
   "source": [
    "## Conclusions and Next Steps\n",
    "This model is 91.2% accurate with no data tweaks"
   ]
  },
  {
   "cell_type": "markdown",
   "metadata": {},
   "source": [
    "# Scratch"
   ]
  },
  {
   "cell_type": "code",
   "execution_count": null,
   "metadata": {},
   "outputs": [],
   "source": [
    "data = test[0]\n",
    "data[31]\n",
    "type(data)\n",
    "data.shape\n",
    "tmp=learn.predict(data)\n",
    "len(tmp)\n",
    "out,pred,res=tmp\n",
    "\n",
    "out\n",
    "pred\n",
    "res\n",
    "\n",
    "# len(out)\n",
    "# len(pred)\n",
    "len(res)"
   ]
  }
 ],
 "metadata": {
  "kernelspec": {
   "display_name": "Python 3",
   "language": "python",
   "name": "python3"
  },
  "language_info": {
   "codemirror_mode": {
    "name": "ipython",
    "version": 3
   },
   "file_extension": ".py",
   "mimetype": "text/x-python",
   "name": "python",
   "nbconvert_exporter": "python",
   "pygments_lexer": "ipython3",
   "version": "3.6.6"
  },
  "toc": {
   "base_numbering": 1,
   "nav_menu": {},
   "number_sections": true,
   "sideBar": true,
   "skip_h1_title": false,
   "title_cell": "Table of Contents",
   "title_sidebar": "Contents",
   "toc_cell": false,
   "toc_position": {
    "height": "calc(100% - 180px)",
    "left": "10px",
    "top": "150px",
    "width": "472px"
   },
   "toc_section_display": true,
   "toc_window_display": true
  },
  "varInspector": {
   "cols": {
    "lenName": 16,
    "lenType": 16,
    "lenVar": 40
   },
   "kernels_config": {
    "python": {
     "delete_cmd_postfix": "",
     "delete_cmd_prefix": "del ",
     "library": "var_list.py",
     "varRefreshCmd": "print(var_dic_list())"
    },
    "r": {
     "delete_cmd_postfix": ") ",
     "delete_cmd_prefix": "rm(",
     "library": "var_list.r",
     "varRefreshCmd": "cat(var_dic_list()) "
    }
   },
   "position": {
    "height": "341px",
    "left": "-86px",
    "right": "20px",
    "top": "432px",
    "width": "408px"
   },
   "types_to_exclude": [
    "module",
    "function",
    "builtin_function_or_method",
    "instance",
    "_Feature"
   ],
   "window_display": true
  }
 },
 "nbformat": 4,
 "nbformat_minor": 2
}
