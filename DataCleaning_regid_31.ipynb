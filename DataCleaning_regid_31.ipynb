{
 "cells": [
  {
   "cell_type": "markdown",
   "metadata": {},
   "source": [
    "# Introduction\n",
    "Voter Analysis exploration"
   ]
  },
  {
   "cell_type": "markdown",
   "metadata": {},
   "source": [
    "## Imports\n",
    "Import libraries and write settings here."
   ]
  },
  {
   "cell_type": "code",
   "execution_count": 1,
   "metadata": {},
   "outputs": [
    {
     "data": {
      "text/html": [
       "<script type=\"text/javascript\">window.PlotlyConfig = {MathJaxConfig: 'local'};</script><script type=\"text/javascript\">if (window.MathJax) {MathJax.Hub.Config({SVG: {font: \"STIX-Web\"}});}</script><script>requirejs.config({paths: { 'plotly': ['https://cdn.plot.ly/plotly-latest.min']},});if(!window._Plotly) {require(['plotly'],function(plotly) {window._Plotly=plotly;});}</script>"
      ],
      "text/vnd.plotly.v1+html": [
       "<script type=\"text/javascript\">window.PlotlyConfig = {MathJaxConfig: 'local'};</script><script type=\"text/javascript\">if (window.MathJax) {MathJax.Hub.Config({SVG: {font: \"STIX-Web\"}});}</script><script>requirejs.config({paths: { 'plotly': ['https://cdn.plot.ly/plotly-latest.min']},});if(!window._Plotly) {require(['plotly'],function(plotly) {window._Plotly=plotly;});}</script>"
      ]
     },
     "metadata": {},
     "output_type": "display_data"
    },
    {
     "data": {
      "text/html": [
       "<script type=\"text/javascript\">window.PlotlyConfig = {MathJaxConfig: 'local'};</script><script type=\"text/javascript\">if (window.MathJax) {MathJax.Hub.Config({SVG: {font: \"STIX-Web\"}});}</script><script>requirejs.config({paths: { 'plotly': ['https://cdn.plot.ly/plotly-latest.min']},});if(!window._Plotly) {require(['plotly'],function(plotly) {window._Plotly=plotly;});}</script>"
      ],
      "text/vnd.plotly.v1+html": [
       "<script type=\"text/javascript\">window.PlotlyConfig = {MathJaxConfig: 'local'};</script><script type=\"text/javascript\">if (window.MathJax) {MathJax.Hub.Config({SVG: {font: \"STIX-Web\"}});}</script><script>requirejs.config({paths: { 'plotly': ['https://cdn.plot.ly/plotly-latest.min']},});if(!window._Plotly) {require(['plotly'],function(plotly) {window._Plotly=plotly;});}</script>"
      ]
     },
     "metadata": {},
     "output_type": "display_data"
    }
   ],
   "source": [
    "from fastai.tabular import *\n",
    "from fastai import *\n",
    "\n",
    "# Data manipulation\n",
    "import pandas as pd\n",
    "import numpy as np\n",
    "\n",
    "# Options for pandas\n",
    "pd.options.display.max_columns = 60\n",
    "pd.options.display.max_rows = 60\n",
    "\n",
    "# Display all cell outputs\n",
    "from IPython.core.interactiveshell import InteractiveShell\n",
    "InteractiveShell.ast_node_interactivity = 'all'\n",
    "\n",
    "from IPython import get_ipython\n",
    "ipython = get_ipython()\n",
    "\n",
    "# autoreload extension\n",
    "if 'autoreload' not in ipython.extension_manager.loaded:\n",
    "    %load_ext autoreload\n",
    "\n",
    "%autoreload 2\n",
    "\n",
    "# Visualizations\n",
    "import plotly.plotly as py\n",
    "import plotly.graph_objs as go\n",
    "from plotly.offline import iplot, init_notebook_mode\n",
    "init_notebook_mode(connected=True)\n",
    "\n",
    "import cufflinks as cf\n",
    "cf.go_offline(connected=True)\n",
    "cf.set_config_file(theme='white')\n",
    "\n",
    "import seaborn as sns\n",
    "\n",
    "#reproducability\n",
    "np.random.seed(0)"
   ]
  },
  {
   "cell_type": "markdown",
   "metadata": {},
   "source": [
    "# DETERMINE IF YOU ARE USING RAW OR SCALED\n",
    "Scaled is Zhao's data, continuous variables divided by standard deviation\n",
    "<br>Raw is unscaled raw data"
   ]
  },
  {
   "cell_type": "code",
   "execution_count": 2,
   "metadata": {},
   "outputs": [],
   "source": [
    "useRaw=True\n",
    "\n",
    "dropCorrelatedColumns=False  #dropping correlated columns?\n",
    "dropSummaryColumns=False    #if above true, choose to drop summary columns or the columns that make them up"
   ]
  },
  {
   "cell_type": "markdown",
   "metadata": {},
   "source": [
    "# Data Import and Cleaning"
   ]
  },
  {
   "cell_type": "code",
   "execution_count": 3,
   "metadata": {},
   "outputs": [],
   "source": [
    "#get the data\n",
    "if (useRaw == True):\n",
    "    df = pd.read_csv('./data/ccesplus.csv',encoding = \"ISO-8859-1\")\n",
    "else:\n",
    "    df = pd.read_csv('./data/ccesplus_fscaled.csv',encoding = \"ISO-8859-1\")"
   ]
  },
  {
   "cell_type": "code",
   "execution_count": 4,
   "metadata": {},
   "outputs": [],
   "source": [
    "#get rid of spaces and caps in column names (if any)\n",
    "df.columns = [col.replace(' ','_').lower() for col in df.columns]"
   ]
  },
  {
   "cell_type": "code",
   "execution_count": 5,
   "metadata": {},
   "outputs": [
    {
     "data": {
      "text/plain": [
       "0"
      ]
     },
     "execution_count": 5,
     "metadata": {},
     "output_type": "execute_result"
    }
   ],
   "source": [
    "# df.head()\n",
    "# df.columns\n",
    "# df.describe()\n",
    "\n",
    "#any duplicate rows?\n",
    "df.duplicated().sum()"
   ]
  },
  {
   "cell_type": "code",
   "execution_count": 6,
   "metadata": {},
   "outputs": [
    {
     "name": "stdout",
     "output_type": "stream",
     "text": [
      "Total columns=866\n",
      "Total columns with no Nans= 268\n",
      "Total columns with Nans= 598\n"
     ]
    }
   ],
   "source": [
    "#lets see how many columns, how many have no and some missing values\n",
    "print (f\"Total columns={len(df.columns)}\")\n",
    "print(f\"Total columns with no Nans= {len(df.columns[~df.isnull().any()])}\") \n",
    "print(f\"Total columns with Nans= {len(df.columns[df.isnull().any()])}\") #add ~ to get columns with no missing values"
   ]
  },
  {
   "cell_type": "markdown",
   "metadata": {},
   "source": [
    "The columns with no NaNs (missing values) are the easiest to use since we dont have to impute missing values"
   ]
  },
  {
   "cell_type": "markdown",
   "metadata": {},
   "source": [
    "## Get a subset of the rows of the data to work on if desired"
   ]
  },
  {
   "cell_type": "code",
   "execution_count": 7,
   "metadata": {},
   "outputs": [],
   "source": [
    "#get first thousand rows\n",
    "# df=df[:1000]"
   ]
  },
  {
   "cell_type": "markdown",
   "metadata": {},
   "source": [
    "## Get the columns of interest"
   ]
  },
  {
   "cell_type": "code",
   "execution_count": 8,
   "metadata": {},
   "outputs": [],
   "source": [
    "all = pd.read_excel('./data/CCESplusVariables.xlsx',encoding = \"ISO-8859-1\")\n",
    "\n",
    "# for every regid=3.1 get the third column (variable name) convert to a list\n",
    "columns = list(all[all['regid']==3.1].iloc[:,2])\n",
    "\n",
    "# #get the dependant variable(s)\n",
    "# # columns_dep_var= ['cc.TrumpGEVote','cc.TrumpPVote', 'cc.vote12.gop']\n",
    "columns_dep_var= 'cc.vote16'\n",
    "\n",
    "# #combine\n",
    "# columns.extend(columns_dep_var)\n",
    "\n",
    "# #strip rubbish\n",
    "columns = [col.replace(' ','_').lower() for col in columns]"
   ]
  },
  {
   "cell_type": "markdown",
   "metadata": {},
   "source": [
    "## Create dataframe for model training"
   ]
  },
  {
   "cell_type": "code",
   "execution_count": 9,
   "metadata": {},
   "outputs": [],
   "source": [
    "#select out the columns of interest\n",
    "df_s=df[columns]"
   ]
  },
  {
   "cell_type": "code",
   "execution_count": 10,
   "metadata": {},
   "outputs": [
    {
     "data": {
      "text/plain": [
       "56"
      ]
     },
     "execution_count": 10,
     "metadata": {},
     "output_type": "execute_result"
    }
   ],
   "source": [
    "len(df_s.iloc[0])"
   ]
  },
  {
   "cell_type": "markdown",
   "metadata": {},
   "source": [
    "### Output some info"
   ]
  },
  {
   "cell_type": "code",
   "execution_count": 11,
   "metadata": {},
   "outputs": [
    {
     "name": "stdout",
     "output_type": "stream",
     "text": [
      "cc.vote16:7\n",
      "cc.emp.nojob:2\n",
      "cc.cc16_304:5\n",
      "cc.faminc:16\n",
      "crashpc:2626\n",
      "rustpc:2437\n",
      "job.uer:761\n",
      "econ.mhi:2646\n",
      "econ.hhpov.p:1030\n",
      "taa.wrks.disc95.pcpy:2120\n",
      "cc.cc16_305_3:2\n",
      "cc.cc16_305_2:2\n",
      "cc.cc16_305_1:2\n",
      "cc.cc16_305_7:2\n",
      "cc.cc16_305_5:2\n",
      "cc.cc16_305_11:2\n",
      "cc.cc16_305_6:2\n",
      "cc.cc16_305_9:2\n",
      "cc.cc16_305_10:2\n",
      "cc.cc16_305_4:2\n",
      "cc.fortunesum:10\n",
      "mort.ucd.despair.disc95.pdpy:2660\n",
      "cc.cc16_331_2:2\n",
      "cc.cc16_331_3:2\n",
      "cc.cc16_331_7:2\n",
      "cc.cc16_331_1:2\n",
      "cc.immviewsum:5\n",
      "cc.cc16_422c:5\n",
      "cc.cc16_422d:5\n",
      "cc.cc16_422e:5\n",
      "cc.cc16_422f:5\n",
      "cc.raceviewsum:17\n",
      "cc.cc16_307:4\n",
      "cc.cc16_351b:2\n",
      "cc.age:80\n",
      "cc.sex:2\n",
      "cc.blackdum:2\n",
      "cc.whitedum:2\n",
      "cc.maxeduc.4yr:2\n",
      "cc.citylength_1:94\n",
      "cc.isimmigrant:2\n",
      "cc.child18:2\n",
      "cc.milstat_1:2\n",
      "cc.milstat_3:2\n",
      "cc.union:2\n",
      "cc.cc16_300_5:2\n",
      "cc.newsint:5\n",
      "cc.ideo7:7\n",
      "cc.evanprot:2\n",
      "cc.catholic:2\n",
      "cc.religiosity:15\n",
      "eth.his.p:1019\n",
      "relig.evan.pc:2665\n",
      "demo.popdense:2668\n",
      "cc.repdum:2\n",
      "cc.inddum:2\n"
     ]
    }
   ],
   "source": [
    "# how many unique values there are per column, \n",
    "# use that to guide which columns are categorical and which are continuous\n",
    "#pick largest value that looks continuous, for instance raceviewsum=17 \n",
    "#(but see the docs many of theses fields are floats which meand fastai ignores cardinality)\n",
    "for col in df_s.columns:\n",
    "    print(f\"{col}:{df[col].nunique()}\")"
   ]
  },
  {
   "cell_type": "code",
   "execution_count": 12,
   "metadata": {},
   "outputs": [
    {
     "data": {
      "text/plain": [
       "cc.vote16                       float64\n",
       "cc.emp.nojob                      int64\n",
       "cc.cc16_304                     float64\n",
       "cc.faminc                       float64\n",
       "crashpc                         float64\n",
       "rustpc                          float64\n",
       "job.uer                         float64\n",
       "econ.mhi                        float64\n",
       "econ.hhpov.p                    float64\n",
       "taa.wrks.disc95.pcpy            float64\n",
       "cc.cc16_305_3                     int64\n",
       "cc.cc16_305_2                     int64\n",
       "cc.cc16_305_1                     int64\n",
       "cc.cc16_305_7                     int64\n",
       "cc.cc16_305_5                     int64\n",
       "cc.cc16_305_11                    int64\n",
       "cc.cc16_305_6                     int64\n",
       "cc.cc16_305_9                     int64\n",
       "cc.cc16_305_10                    int64\n",
       "cc.cc16_305_4                     int64\n",
       "cc.fortunesum                   float64\n",
       "mort.ucd.despair.disc95.pdpy    float64\n",
       "cc.cc16_331_2                     int64\n",
       "cc.cc16_331_3                     int64\n",
       "cc.cc16_331_7                     int64\n",
       "cc.cc16_331_1                     int64\n",
       "cc.immviewsum                   float64\n",
       "cc.cc16_422c                    float64\n",
       "cc.cc16_422d                    float64\n",
       "cc.cc16_422e                    float64\n",
       "cc.cc16_422f                    float64\n",
       "cc.raceviewsum                  float64\n",
       "cc.cc16_307                     float64\n",
       "cc.cc16_351b                    float64\n",
       "cc.age                            int64\n",
       "cc.sex                            int64\n",
       "cc.blackdum                       int64\n",
       "cc.whitedum                       int64\n",
       "cc.maxeduc.4yr                    int64\n",
       "cc.citylength_1                 float64\n",
       "cc.isimmigrant                    int64\n",
       "cc.child18                      float64\n",
       "cc.milstat_1                      int64\n",
       "cc.milstat_3                      int64\n",
       "cc.union                        float64\n",
       "cc.cc16_300_5                     int64\n",
       "cc.newsint                      float64\n",
       "cc.ideo7                        float64\n",
       "cc.evanprot                     float64\n",
       "cc.catholic                     float64\n",
       "cc.religiosity                  float64\n",
       "eth.his.p                       float64\n",
       "relig.evan.pc                   float64\n",
       "demo.popdense                   float64\n",
       "cc.repdum                       float64\n",
       "cc.inddum                       float64\n",
       "dtype: object"
      ]
     },
     "execution_count": 12,
     "metadata": {},
     "output_type": "execute_result"
    }
   ],
   "source": [
    "#what types are the columns\n",
    "df_s.dtypes"
   ]
  },
  {
   "cell_type": "code",
   "execution_count": 13,
   "metadata": {},
   "outputs": [
    {
     "data": {
      "text/plain": [
       "cc.cc16_331_3                   0.000000\n",
       "cc.cc16_305_4                   0.000000\n",
       "cc.fortunesum                   0.000000\n",
       "cc.milstat_1                    0.000000\n",
       "cc.cc16_331_2                   0.000000\n",
       "cc.cc16_331_7                   0.000000\n",
       "cc.cc16_331_1                   0.000000\n",
       "cc.cc16_305_10                  0.000000\n",
       "cc.immviewsum                   0.000000\n",
       "cc.age                          0.000000\n",
       "cc.sex                          0.000000\n",
       "cc.blackdum                     0.000000\n",
       "cc.whitedum                     0.000000\n",
       "cc.maxeduc.4yr                  0.000000\n",
       "cc.isimmigrant                  0.000000\n",
       "cc.cc16_300_5                   0.000000\n",
       "cc.cc16_305_9                   0.000000\n",
       "cc.milstat_3                    0.000000\n",
       "cc.cc16_305_11                  0.000000\n",
       "cc.cc16_305_5                   0.000000\n",
       "cc.cc16_305_7                   0.000000\n",
       "cc.cc16_305_1                   0.000000\n",
       "cc.cc16_305_2                   0.000000\n",
       "cc.cc16_305_3                   0.000000\n",
       "cc.emp.nojob                    0.000000\n",
       "cc.cc16_305_6                   0.000000\n",
       "cc.evanprot                     0.000666\n",
       "cc.newsint                      0.000820\n",
       "cc.catholic                     0.001130\n",
       "econ.mhi                        0.001300\n",
       "relig.evan.pc                   0.001300\n",
       "econ.hhpov.p                    0.001300\n",
       "job.uer                         0.001300\n",
       "demo.popdense                   0.001300\n",
       "taa.wrks.disc95.pcpy            0.001300\n",
       "eth.his.p                       0.001300\n",
       "cc.cc16_307                     0.001517\n",
       "mort.ucd.despair.disc95.pdpy    0.001548\n",
       "cc.child18                      0.001827\n",
       "cc.cc16_351b                    0.001950\n",
       "cc.cc16_304                     0.002059\n",
       "cc.union                        0.002136\n",
       "rustpc                          0.002229\n",
       "crashpc                         0.002229\n",
       "cc.vote16                       0.004334\n",
       "cc.citylength_1                 0.028529\n",
       "cc.religiosity                  0.031084\n",
       "cc.ideo7                        0.057817\n",
       "cc.inddum                       0.058854\n",
       "cc.repdum                       0.058854\n",
       "cc.faminc                       0.103452\n",
       "cc.cc16_422d                    0.182105\n",
       "cc.cc16_422c                    0.182152\n",
       "cc.cc16_422f                    0.183003\n",
       "cc.cc16_422e                    0.183065\n",
       "cc.raceviewsum                  0.186703\n",
       "dtype: float64"
      ]
     },
     "execution_count": 13,
     "metadata": {},
     "output_type": "execute_result"
    }
   ],
   "source": [
    "#the percentage of NaNs in each column, note the large percentage of missing values in the bottom columns\n",
    "#I would guess that cc.faminc and cc.raceviewsum are critical\n",
    "df_s.isna().sum().sort_values(ascending = True)/len(df)"
   ]
  },
  {
   "cell_type": "markdown",
   "metadata": {},
   "source": [
    "## Remove NaN dependent variable rows\n",
    "whaddaya going to do?  You have no way of knowing how these people voted"
   ]
  },
  {
   "cell_type": "code",
   "execution_count": 14,
   "metadata": {},
   "outputs": [
    {
     "name": "stdout",
     "output_type": "stream",
     "text": [
      "There are 64600 rows in df_s\n"
     ]
    }
   ],
   "source": [
    "print(f\"There are {len(df_s)} rows in df_s\")"
   ]
  },
  {
   "cell_type": "code",
   "execution_count": 15,
   "metadata": {},
   "outputs": [
    {
     "name": "stdout",
     "output_type": "stream",
     "text": [
      "There are 64320 rows in df_s after removing rows with Nan for dependant variable\n"
     ]
    }
   ],
   "source": [
    "#dump the NaN rows\n",
    "df_s = df_s[pd.notnull(df_s['cc.vote16'] )]\n",
    "print(f\"There are {len(df_s)} rows in df_s after removing rows with Nan for dependant variable\")"
   ]
  },
  {
   "cell_type": "markdown",
   "metadata": {},
   "source": [
    "## Convert cc.vote16 back to categorical"
   ]
  },
  {
   "cell_type": "code",
   "execution_count": 16,
   "metadata": {},
   "outputs": [
    {
     "data": {
      "text/plain": [
       "array([3., 1., 0., 2., 5., 4., 6.])"
      ]
     },
     "execution_count": 16,
     "metadata": {},
     "output_type": "execute_result"
    }
   ],
   "source": [
    "#how many unique values?\n",
    "unique_vals = df_s['cc.vote16'].unique()\n",
    "unique_vals"
   ]
  },
  {
   "cell_type": "code",
   "execution_count": 17,
   "metadata": {},
   "outputs": [],
   "source": [
    "if (useRaw == True):\n",
    "    mult=1.0\n",
    "else:\n",
    "    #cc.vote16 seems to have been scaled incorrectly, it should be categorical, convert it back\n",
    "    #1/std_dev = .592302\n",
    "    mult = 1/0.592302\n",
    "\n",
    "#multiply col by mult to get close to original value\n",
    "df_s['cc.vote16'] = (df_s['cc.vote16']*mult).astype('int64')\n",
    "\n",
    "# unique_vals_unnormalized = unique_vals*std_dev\n",
    "# unique_vals_unnormalized\n",
    "# unique_vals_unnormalized = unique_vals_unnormalized.astype('int64')\n",
    "# unique_vals_unnormalized"
   ]
  },
  {
   "cell_type": "code",
   "execution_count": 18,
   "metadata": {},
   "outputs": [],
   "source": [
    "#causes nan for learner\n",
    "# df_s['cc.trumpgevote'] = df_s['cc.trumpgevote'].astype('category');\n",
    "# df_s['cc.trumpgevote'].cat.categories"
   ]
  },
  {
   "cell_type": "code",
   "execution_count": 19,
   "metadata": {},
   "outputs": [
    {
     "data": {
      "text/plain": [
       "2    22136\n",
       "0    19389\n",
       "1    18754\n",
       "3     1829\n",
       "6     1136\n",
       "4      913\n",
       "5      163\n",
       "Name: cc.vote16, dtype: int64"
      ]
     },
     "execution_count": 19,
     "metadata": {},
     "output_type": "execute_result"
    },
    {
     "data": {
      "text/plain": [
       "64320"
      ]
     },
     "execution_count": 19,
     "metadata": {},
     "output_type": "execute_result"
    },
    {
     "data": {
      "text/plain": [
       "19389"
      ]
     },
     "execution_count": 19,
     "metadata": {},
     "output_type": "execute_result"
    }
   ],
   "source": [
    "#is the dataset balanced?\n",
    "df_vc= df_s['cc.vote16'].value_counts()\n",
    "df_vc\n",
    "df_vc.sum()\n",
    "df_vc[0]"
   ]
  },
  {
   "cell_type": "code",
   "execution_count": 20,
   "metadata": {},
   "outputs": [
    {
     "name": "stdout",
     "output_type": "stream",
     "text": [
      "total percentage of people who voted for trump in this dataset=34.41542288557214\n",
      "total percentage of people who voted for trump excluding non voters=41.73955620840845\n",
      "total percentage of people who voted for Hillary excluding non voters=49.26665331285749\n"
     ]
    }
   ],
   "source": [
    "#how about as percentages\n",
    "print(f\"total percentage of people who voted for trump in this dataset={100*df_vc[2]/df_vc.sum()}\")\n",
    "print(f\"total percentage of people who voted for trump excluding non voters={100*df_vc[1]/(df_vc.sum()-df_vc[0])}\")\n",
    "print(f\"total percentage of people who voted for Hillary excluding non voters={100*df_vc[2]/(df_vc.sum()-df_vc[0])}\")"
   ]
  },
  {
   "cell_type": "markdown",
   "metadata": {},
   "source": [
    "# Check on correlations\n"
   ]
  },
  {
   "cell_type": "code",
   "execution_count": 21,
   "metadata": {},
   "outputs": [
    {
     "data": {
      "image/png": "[encoded data removed]",
      "text/plain": [
       "<Figure size 864x648 with 2 Axes>"
      ]
     },
     "metadata": {
      "needs_background": "light"
     },
     "output_type": "display_data"
    }
   ],
   "source": [
    "#correlation matrix\n",
    "corrmat = df_s.corr(method='pearson')\n",
    "f, ax = plt.subplots(figsize=(12, 9))\n",
    "sns.heatmap(corrmat, vmax=.8, square=True);\n",
    "\n",
    "#there is a lot of correlation here,the darks and the lights"
   ]
  },
  {
   "cell_type": "code",
   "execution_count": 22,
   "metadata": {},
   "outputs": [
    {
     "name": "stdout",
     "output_type": "stream",
     "text": [
      "Top Absolute Correlations\n",
      "cc.cc16_331_7   cc.immviewsum           0.780721\n",
      "cc.cc16_422d    cc.raceviewsum          0.772481\n",
      "cc.cc16_331_1   cc.immviewsum           0.754479\n",
      "cc.cc16_422f    cc.raceviewsum          0.736505\n",
      "econ.mhi        econ.hhpov.p            0.730862\n",
      "cc.cc16_331_3   cc.immviewsum           0.684166\n",
      "cc.cc16_422c    cc.raceviewsum          0.682102\n",
      "job.uer         econ.hhpov.p            0.651577\n",
      "cc.cc16_331_2   cc.immviewsum           0.651303\n",
      "cc.blackdum     cc.whitedum             0.595172\n",
      "crashpc         rustpc                  0.577588\n",
      "cc.immviewsum   cc.raceviewsum          0.557516\n",
      "cc.raceviewsum  cc.ideo7                0.547859\n",
      "cc.immviewsum   cc.cc16_422d            0.541188\n",
      "rustpc          taa.wrks.disc95.pcpy    0.532829\n",
      "cc.cc16_422d    cc.ideo7                0.526753\n",
      "cc.evanprot     cc.religiosity          0.526236\n",
      "cc.immviewsum   cc.ideo7                0.500594\n",
      "cc.cc16_305_11  cc.fortunesum           0.491183\n",
      "cc.ideo7        cc.repdum               0.485124\n",
      "job.uer         econ.mhi                0.476613\n",
      "cc.cc16_305_6   cc.child18              0.471376\n",
      "cc.cc16_331_7   cc.cc16_331_1           0.462106\n",
      "cc.cc16_305_10  cc.fortunesum           0.453099\n",
      "cc.cc16_422d    cc.cc16_422f            0.446509\n",
      "cc.cc16_331_3   cc.cc16_331_1           0.441408\n",
      "cc.cc16_331_7   cc.raceviewsum          0.439442\n",
      "cc.cc16_422c    cc.cc16_422d            0.439077\n",
      "cc.cc16_331_7   cc.cc16_422d            0.437640\n",
      "cc.cc16_422e    cc.raceviewsum          0.437405\n",
      "cc.cc16_331_2   cc.cc16_331_7           0.434057\n",
      "cc.cc16_305_7   cc.fortunesum           0.424486\n",
      "cc.cc16_331_1   cc.raceviewsum          0.424034\n",
      "cc.cc16_422f    cc.ideo7                0.407843\n",
      "cc.cc16_331_3   cc.raceviewsum          0.405390\n",
      "cc.cc16_331_1   cc.cc16_422d            0.393075\n",
      "cc.cc16_331_3   cc.cc16_422d            0.388801\n",
      "crashpc         econ.mhi                0.387837\n",
      "cc.cc16_331_7   cc.ideo7                0.387435\n",
      "econ.mhi        relig.evan.pc           0.384967\n",
      "cc.cc16_305_7   cc.age                  0.380845\n",
      "cc.cc16_422d    cc.repdum               0.379532\n",
      "cc.repdum       cc.inddum               0.379302\n",
      "cc.cc16_422c    cc.cc16_422f            0.376927\n",
      "cc.cc16_305_3   cc.fortunesum           0.374562\n",
      "cc.immviewsum   cc.cc16_422f            0.371323\n",
      "                cc.cc16_422c            0.369649\n",
      "cc.raceviewsum  cc.repdum               0.367817\n",
      "cc.immviewsum   cc.repdum               0.367399\n",
      "cc.cc16_305_3   cc.age                  0.365533\n",
      "cc.ideo7        cc.religiosity          0.364139\n",
      "cc.age          cc.citylength_1         0.362643\n",
      "cc.cc16_305_1   cc.fortunesum           0.357814\n",
      "cc.cc16_331_2   cc.cc16_422d            0.357031\n",
      "cc.cc16_331_1   cc.ideo7                0.356780\n",
      "cc.cc16_331_2   cc.raceviewsum          0.356180\n",
      "dtype: float64\n"
     ]
    }
   ],
   "source": [
    "#lets get top correlated columns\n",
    "def get_redundant_pairs(df):\n",
    "    '''Get diagonal and lower triangular pairs of correlation matrix'''\n",
    "    pairs_to_drop = set()\n",
    "    cols = df.columns\n",
    "    for i in range(0, df.shape[1]):\n",
    "        for j in range(0, i+1):\n",
    "            pairs_to_drop.add((cols[i], cols[j]))\n",
    "    return pairs_to_drop\n",
    "\n",
    "def get_top_abs_correlations(df, n=None):\n",
    "    au_corr = df.corr().abs().unstack()\n",
    "    labels_to_drop = get_redundant_pairs(df)\n",
    "    au_corr = au_corr.drop(labels=labels_to_drop).sort_values(ascending=False)\n",
    "    if (n is None):\n",
    "        n=len(df.columns)\n",
    "    return au_corr[0:n]\n",
    "\n",
    "print(\"Top Absolute Correlations\")\n",
    "print(get_top_abs_correlations(df_s))\n"
   ]
  },
  {
   "cell_type": "markdown",
   "metadata": {},
   "source": [
    "## Correlations above 50% are worrisome, especially when its a summary variable that adds up a bunch of other variables. Lets get rid of them"
   ]
  },
  {
   "cell_type": "code",
   "execution_count": 23,
   "metadata": {},
   "outputs": [],
   "source": [
    "#dump columns that summaries are made of \n",
    "if (dropCorrelatedColumns ==True): #dropping correlated columns?\n",
    "    if (dropSummaryColumns == True):\n",
    "        summary_cols=[ 'cc.raceviewsum','cc.immviewsum']\n",
    "    else:\n",
    "        summary_cols=[ 'cc.cc16_331_7','cc.cc16_331_1', 'cc.cc16_331_3', 'cc.cc16_331_2', 'cc.cc16_422d','cc.cc16_422f','cc.cc16_422c','cc.cc16_422e']\n",
    "\n",
    "    df_s.drop(summary_cols,axis=1,inplace=True)"
   ]
  },
  {
   "cell_type": "markdown",
   "metadata": {},
   "source": [
    "## Split out categorical and continuous variables\n",
    "see if fastai can auto do it"
   ]
  },
  {
   "cell_type": "code",
   "execution_count": 24,
   "metadata": {
    "scrolled": true
   },
   "outputs": [],
   "source": [
    "# #give fastai a shot at splitting cat and cont variables\n",
    "res_cont, res_cat = cont_cat_split(df_s,max_card=18)"
   ]
  },
  {
   "cell_type": "code",
   "execution_count": 25,
   "metadata": {},
   "outputs": [
    {
     "name": "stdout",
     "output_type": "stream",
     "text": [
      "['cc.cc16_304', 'cc.faminc', 'crashpc', 'rustpc', 'job.uer', 'econ.mhi', 'econ.hhpov.p', 'taa.wrks.disc95.pcpy', 'cc.fortunesum', 'mort.ucd.despair.disc95.pdpy', 'cc.immviewsum', 'cc.cc16_422c', 'cc.cc16_422d', 'cc.cc16_422e', 'cc.cc16_422f', 'cc.raceviewsum', 'cc.cc16_307', 'cc.cc16_351b', 'cc.age', 'cc.citylength_1', 'cc.child18', 'cc.union', 'cc.newsint', 'cc.ideo7', 'cc.evanprot', 'cc.catholic', 'cc.religiosity', 'eth.his.p', 'relig.evan.pc', 'demo.popdense', 'cc.repdum', 'cc.inddum']\n",
      "['cc.vote16', 'cc.emp.nojob', 'cc.cc16_305_3', 'cc.cc16_305_2', 'cc.cc16_305_1', 'cc.cc16_305_7', 'cc.cc16_305_5', 'cc.cc16_305_11', 'cc.cc16_305_6', 'cc.cc16_305_9', 'cc.cc16_305_10', 'cc.cc16_305_4', 'cc.cc16_331_2', 'cc.cc16_331_3', 'cc.cc16_331_7', 'cc.cc16_331_1', 'cc.sex', 'cc.blackdum', 'cc.whitedum', 'cc.maxeduc.4yr', 'cc.isimmigrant', 'cc.milstat_1', 'cc.milstat_3', 'cc.cc16_300_5']\n"
     ]
    }
   ],
   "source": [
    "# ??cont_cat_split\n",
    "print(res_cont)\n",
    "print(res_cat)"
   ]
  },
  {
   "cell_type": "code",
   "execution_count": 26,
   "metadata": {},
   "outputs": [],
   "source": [
    "#remove the dependant variable\n",
    "res_cont = [x for x in res_cont if x not in columns_dep_var]\n",
    "res_cat = [x for x in res_cat if x not in columns_dep_var]"
   ]
  },
  {
   "cell_type": "code",
   "execution_count": 27,
   "metadata": {},
   "outputs": [
    {
     "data": {
      "text/html": [
       "<div>\n",
       "<style scoped>\n",
       "    .dataframe tbody tr th:only-of-type {\n",
       "        vertical-align: middle;\n",
       "    }\n",
       "\n",
       "    .dataframe tbody tr th {\n",
       "        vertical-align: top;\n",
       "    }\n",
       "\n",
       "    .dataframe thead th {\n",
       "        text-align: right;\n",
       "    }\n",
       "</style>\n",
       "<table border=\"1\" class=\"dataframe\">\n",
       "  <thead>\n",
       "    <tr style=\"text-align: right;\">\n",
       "      <th></th>\n",
       "      <th>cc.vote16</th>\n",
       "      <th>cc.emp.nojob</th>\n",
       "      <th>cc.cc16_304</th>\n",
       "      <th>cc.faminc</th>\n",
       "      <th>crashpc</th>\n",
       "      <th>rustpc</th>\n",
       "      <th>job.uer</th>\n",
       "      <th>econ.mhi</th>\n",
       "      <th>econ.hhpov.p</th>\n",
       "      <th>taa.wrks.disc95.pcpy</th>\n",
       "      <th>cc.cc16_305_3</th>\n",
       "      <th>cc.cc16_305_2</th>\n",
       "      <th>cc.cc16_305_1</th>\n",
       "      <th>cc.cc16_305_7</th>\n",
       "      <th>cc.cc16_305_5</th>\n",
       "      <th>cc.cc16_305_11</th>\n",
       "      <th>cc.cc16_305_6</th>\n",
       "      <th>cc.cc16_305_9</th>\n",
       "      <th>cc.cc16_305_10</th>\n",
       "      <th>cc.cc16_305_4</th>\n",
       "      <th>cc.fortunesum</th>\n",
       "      <th>mort.ucd.despair.disc95.pdpy</th>\n",
       "      <th>cc.cc16_331_2</th>\n",
       "      <th>cc.cc16_331_3</th>\n",
       "      <th>cc.cc16_331_7</th>\n",
       "      <th>cc.cc16_331_1</th>\n",
       "      <th>cc.immviewsum</th>\n",
       "      <th>cc.cc16_422c</th>\n",
       "      <th>cc.cc16_422d</th>\n",
       "      <th>cc.cc16_422e</th>\n",
       "      <th>cc.cc16_422f</th>\n",
       "      <th>cc.raceviewsum</th>\n",
       "      <th>cc.cc16_307</th>\n",
       "      <th>cc.cc16_351b</th>\n",
       "      <th>cc.age</th>\n",
       "      <th>cc.sex</th>\n",
       "      <th>cc.blackdum</th>\n",
       "      <th>cc.whitedum</th>\n",
       "      <th>cc.maxeduc.4yr</th>\n",
       "      <th>cc.citylength_1</th>\n",
       "      <th>cc.isimmigrant</th>\n",
       "      <th>cc.child18</th>\n",
       "      <th>cc.milstat_1</th>\n",
       "      <th>cc.milstat_3</th>\n",
       "      <th>cc.union</th>\n",
       "      <th>cc.cc16_300_5</th>\n",
       "      <th>cc.newsint</th>\n",
       "      <th>cc.ideo7</th>\n",
       "      <th>cc.evanprot</th>\n",
       "      <th>cc.catholic</th>\n",
       "      <th>cc.religiosity</th>\n",
       "      <th>eth.his.p</th>\n",
       "      <th>relig.evan.pc</th>\n",
       "      <th>demo.popdense</th>\n",
       "      <th>cc.repdum</th>\n",
       "      <th>cc.inddum</th>\n",
       "    </tr>\n",
       "  </thead>\n",
       "  <tbody>\n",
       "    <tr>\n",
       "      <th>0</th>\n",
       "      <td>3</td>\n",
       "      <td>0</td>\n",
       "      <td>3.0</td>\n",
       "      <td>10.0</td>\n",
       "      <td>NaN</td>\n",
       "      <td>NaN</td>\n",
       "      <td>NaN</td>\n",
       "      <td>NaN</td>\n",
       "      <td>NaN</td>\n",
       "      <td>NaN</td>\n",
       "      <td>0</td>\n",
       "      <td>0</td>\n",
       "      <td>0</td>\n",
       "      <td>0</td>\n",
       "      <td>0</td>\n",
       "      <td>0</td>\n",
       "      <td>0</td>\n",
       "      <td>0</td>\n",
       "      <td>0</td>\n",
       "      <td>0</td>\n",
       "      <td>0.0</td>\n",
       "      <td>NaN</td>\n",
       "      <td>0</td>\n",
       "      <td>0</td>\n",
       "      <td>0</td>\n",
       "      <td>1</td>\n",
       "      <td>0.25</td>\n",
       "      <td>1.0</td>\n",
       "      <td>2.0</td>\n",
       "      <td>2.0</td>\n",
       "      <td>2.0</td>\n",
       "      <td>1.75</td>\n",
       "      <td>4.0</td>\n",
       "      <td>0.0</td>\n",
       "      <td>57</td>\n",
       "      <td>1</td>\n",
       "      <td>0</td>\n",
       "      <td>1</td>\n",
       "      <td>0</td>\n",
       "      <td>NaN</td>\n",
       "      <td>0</td>\n",
       "      <td>0.0</td>\n",
       "      <td>2</td>\n",
       "      <td>2</td>\n",
       "      <td>0.0</td>\n",
       "      <td>1</td>\n",
       "      <td>2.0</td>\n",
       "      <td>6.0</td>\n",
       "      <td>0.0</td>\n",
       "      <td>0.0</td>\n",
       "      <td>16.0</td>\n",
       "      <td>NaN</td>\n",
       "      <td>NaN</td>\n",
       "      <td>NaN</td>\n",
       "      <td>1.0</td>\n",
       "      <td>0.0</td>\n",
       "    </tr>\n",
       "    <tr>\n",
       "      <th>1</th>\n",
       "      <td>1</td>\n",
       "      <td>0</td>\n",
       "      <td>3.0</td>\n",
       "      <td>NaN</td>\n",
       "      <td>NaN</td>\n",
       "      <td>NaN</td>\n",
       "      <td>NaN</td>\n",
       "      <td>NaN</td>\n",
       "      <td>NaN</td>\n",
       "      <td>NaN</td>\n",
       "      <td>0</td>\n",
       "      <td>0</td>\n",
       "      <td>0</td>\n",
       "      <td>0</td>\n",
       "      <td>0</td>\n",
       "      <td>1</td>\n",
       "      <td>0</td>\n",
       "      <td>0</td>\n",
       "      <td>1</td>\n",
       "      <td>0</td>\n",
       "      <td>0.0</td>\n",
       "      <td>NaN</td>\n",
       "      <td>1</td>\n",
       "      <td>0</td>\n",
       "      <td>0</td>\n",
       "      <td>1</td>\n",
       "      <td>0.50</td>\n",
       "      <td>1.0</td>\n",
       "      <td>3.0</td>\n",
       "      <td>1.0</td>\n",
       "      <td>2.0</td>\n",
       "      <td>1.75</td>\n",
       "      <td>4.0</td>\n",
       "      <td>1.0</td>\n",
       "      <td>64</td>\n",
       "      <td>1</td>\n",
       "      <td>0</td>\n",
       "      <td>1</td>\n",
       "      <td>1</td>\n",
       "      <td>36.0</td>\n",
       "      <td>0</td>\n",
       "      <td>0.0</td>\n",
       "      <td>2</td>\n",
       "      <td>2</td>\n",
       "      <td>1.0</td>\n",
       "      <td>0</td>\n",
       "      <td>1.0</td>\n",
       "      <td>7.0</td>\n",
       "      <td>1.0</td>\n",
       "      <td>0.0</td>\n",
       "      <td>16.0</td>\n",
       "      <td>NaN</td>\n",
       "      <td>NaN</td>\n",
       "      <td>NaN</td>\n",
       "      <td>1.0</td>\n",
       "      <td>0.0</td>\n",
       "    </tr>\n",
       "    <tr>\n",
       "      <th>2</th>\n",
       "      <td>0</td>\n",
       "      <td>1</td>\n",
       "      <td>4.0</td>\n",
       "      <td>NaN</td>\n",
       "      <td>NaN</td>\n",
       "      <td>NaN</td>\n",
       "      <td>NaN</td>\n",
       "      <td>NaN</td>\n",
       "      <td>NaN</td>\n",
       "      <td>NaN</td>\n",
       "      <td>0</td>\n",
       "      <td>0</td>\n",
       "      <td>0</td>\n",
       "      <td>0</td>\n",
       "      <td>0</td>\n",
       "      <td>0</td>\n",
       "      <td>0</td>\n",
       "      <td>0</td>\n",
       "      <td>0</td>\n",
       "      <td>0</td>\n",
       "      <td>0.0</td>\n",
       "      <td>NaN</td>\n",
       "      <td>0</td>\n",
       "      <td>1</td>\n",
       "      <td>0</td>\n",
       "      <td>1</td>\n",
       "      <td>0.50</td>\n",
       "      <td>NaN</td>\n",
       "      <td>NaN</td>\n",
       "      <td>NaN</td>\n",
       "      <td>NaN</td>\n",
       "      <td>NaN</td>\n",
       "      <td>3.0</td>\n",
       "      <td>1.0</td>\n",
       "      <td>24</td>\n",
       "      <td>0</td>\n",
       "      <td>0</td>\n",
       "      <td>0</td>\n",
       "      <td>0</td>\n",
       "      <td>7.0</td>\n",
       "      <td>0</td>\n",
       "      <td>0.0</td>\n",
       "      <td>2</td>\n",
       "      <td>2</td>\n",
       "      <td>0.0</td>\n",
       "      <td>0</td>\n",
       "      <td>2.0</td>\n",
       "      <td>NaN</td>\n",
       "      <td>0.0</td>\n",
       "      <td>0.0</td>\n",
       "      <td>NaN</td>\n",
       "      <td>NaN</td>\n",
       "      <td>NaN</td>\n",
       "      <td>NaN</td>\n",
       "      <td>NaN</td>\n",
       "      <td>NaN</td>\n",
       "    </tr>\n",
       "    <tr>\n",
       "      <th>3</th>\n",
       "      <td>0</td>\n",
       "      <td>0</td>\n",
       "      <td>3.0</td>\n",
       "      <td>1.0</td>\n",
       "      <td>NaN</td>\n",
       "      <td>NaN</td>\n",
       "      <td>NaN</td>\n",
       "      <td>NaN</td>\n",
       "      <td>NaN</td>\n",
       "      <td>NaN</td>\n",
       "      <td>0</td>\n",
       "      <td>1</td>\n",
       "      <td>0</td>\n",
       "      <td>0</td>\n",
       "      <td>0</td>\n",
       "      <td>0</td>\n",
       "      <td>1</td>\n",
       "      <td>1</td>\n",
       "      <td>0</td>\n",
       "      <td>0</td>\n",
       "      <td>-0.1</td>\n",
       "      <td>NaN</td>\n",
       "      <td>1</td>\n",
       "      <td>1</td>\n",
       "      <td>0</td>\n",
       "      <td>1</td>\n",
       "      <td>0.75</td>\n",
       "      <td>NaN</td>\n",
       "      <td>NaN</td>\n",
       "      <td>NaN</td>\n",
       "      <td>NaN</td>\n",
       "      <td>NaN</td>\n",
       "      <td>3.0</td>\n",
       "      <td>0.0</td>\n",
       "      <td>26</td>\n",
       "      <td>0</td>\n",
       "      <td>1</td>\n",
       "      <td>0</td>\n",
       "      <td>0</td>\n",
       "      <td>2.0</td>\n",
       "      <td>1</td>\n",
       "      <td>1.0</td>\n",
       "      <td>2</td>\n",
       "      <td>2</td>\n",
       "      <td>NaN</td>\n",
       "      <td>0</td>\n",
       "      <td>1.0</td>\n",
       "      <td>5.0</td>\n",
       "      <td>0.0</td>\n",
       "      <td>0.0</td>\n",
       "      <td>14.0</td>\n",
       "      <td>NaN</td>\n",
       "      <td>NaN</td>\n",
       "      <td>NaN</td>\n",
       "      <td>1.0</td>\n",
       "      <td>0.0</td>\n",
       "    </tr>\n",
       "    <tr>\n",
       "      <th>4</th>\n",
       "      <td>2</td>\n",
       "      <td>0</td>\n",
       "      <td>1.0</td>\n",
       "      <td>8.0</td>\n",
       "      <td>NaN</td>\n",
       "      <td>NaN</td>\n",
       "      <td>NaN</td>\n",
       "      <td>NaN</td>\n",
       "      <td>NaN</td>\n",
       "      <td>NaN</td>\n",
       "      <td>0</td>\n",
       "      <td>0</td>\n",
       "      <td>1</td>\n",
       "      <td>0</td>\n",
       "      <td>0</td>\n",
       "      <td>0</td>\n",
       "      <td>0</td>\n",
       "      <td>0</td>\n",
       "      <td>0</td>\n",
       "      <td>0</td>\n",
       "      <td>0.1</td>\n",
       "      <td>NaN</td>\n",
       "      <td>0</td>\n",
       "      <td>0</td>\n",
       "      <td>0</td>\n",
       "      <td>0</td>\n",
       "      <td>0.00</td>\n",
       "      <td>1.0</td>\n",
       "      <td>1.0</td>\n",
       "      <td>1.0</td>\n",
       "      <td>1.0</td>\n",
       "      <td>1.00</td>\n",
       "      <td>4.0</td>\n",
       "      <td>0.0</td>\n",
       "      <td>75</td>\n",
       "      <td>0</td>\n",
       "      <td>0</td>\n",
       "      <td>1</td>\n",
       "      <td>1</td>\n",
       "      <td>15.0</td>\n",
       "      <td>0</td>\n",
       "      <td>0.0</td>\n",
       "      <td>2</td>\n",
       "      <td>2</td>\n",
       "      <td>0.0</td>\n",
       "      <td>0</td>\n",
       "      <td>1.0</td>\n",
       "      <td>1.0</td>\n",
       "      <td>0.0</td>\n",
       "      <td>0.0</td>\n",
       "      <td>11.0</td>\n",
       "      <td>NaN</td>\n",
       "      <td>NaN</td>\n",
       "      <td>NaN</td>\n",
       "      <td>0.0</td>\n",
       "      <td>0.0</td>\n",
       "    </tr>\n",
       "  </tbody>\n",
       "</table>\n",
       "</div>"
      ],
      "text/plain": [
       "   cc.vote16  cc.emp.nojob  cc.cc16_304  cc.faminc  crashpc  rustpc  job.uer  \\\n",
       "0          3             0          3.0       10.0      NaN     NaN      NaN   \n",
       "1          1             0          3.0        NaN      NaN     NaN      NaN   \n",
       "2          0             1          4.0        NaN      NaN     NaN      NaN   \n",
       "3          0             0          3.0        1.0      NaN     NaN      NaN   \n",
       "4          2             0          1.0        8.0      NaN     NaN      NaN   \n",
       "\n",
       "   econ.mhi  econ.hhpov.p  taa.wrks.disc95.pcpy  cc.cc16_305_3  cc.cc16_305_2  \\\n",
       "0       NaN           NaN                   NaN              0              0   \n",
       "1       NaN           NaN                   NaN              0              0   \n",
       "2       NaN           NaN                   NaN              0              0   \n",
       "3       NaN           NaN                   NaN              0              1   \n",
       "4       NaN           NaN                   NaN              0              0   \n",
       "\n",
       "   cc.cc16_305_1  cc.cc16_305_7  cc.cc16_305_5  cc.cc16_305_11  cc.cc16_305_6  \\\n",
       "0              0              0              0               0              0   \n",
       "1              0              0              0               1              0   \n",
       "2              0              0              0               0              0   \n",
       "3              0              0              0               0              1   \n",
       "4              1              0              0               0              0   \n",
       "\n",
       "   cc.cc16_305_9  cc.cc16_305_10  cc.cc16_305_4  cc.fortunesum  \\\n",
       "0              0               0              0            0.0   \n",
       "1              0               1              0            0.0   \n",
       "2              0               0              0            0.0   \n",
       "3              1               0              0           -0.1   \n",
       "4              0               0              0            0.1   \n",
       "\n",
       "   mort.ucd.despair.disc95.pdpy  cc.cc16_331_2  cc.cc16_331_3  cc.cc16_331_7  \\\n",
       "0                           NaN              0              0              0   \n",
       "1                           NaN              1              0              0   \n",
       "2                           NaN              0              1              0   \n",
       "3                           NaN              1              1              0   \n",
       "4                           NaN              0              0              0   \n",
       "\n",
       "   cc.cc16_331_1  cc.immviewsum  cc.cc16_422c  cc.cc16_422d  cc.cc16_422e  \\\n",
       "0              1           0.25           1.0           2.0           2.0   \n",
       "1              1           0.50           1.0           3.0           1.0   \n",
       "2              1           0.50           NaN           NaN           NaN   \n",
       "3              1           0.75           NaN           NaN           NaN   \n",
       "4              0           0.00           1.0           1.0           1.0   \n",
       "\n",
       "   cc.cc16_422f  cc.raceviewsum  cc.cc16_307  cc.cc16_351b  cc.age  cc.sex  \\\n",
       "0           2.0            1.75          4.0           0.0      57       1   \n",
       "1           2.0            1.75          4.0           1.0      64       1   \n",
       "2           NaN             NaN          3.0           1.0      24       0   \n",
       "3           NaN             NaN          3.0           0.0      26       0   \n",
       "4           1.0            1.00          4.0           0.0      75       0   \n",
       "\n",
       "   cc.blackdum  cc.whitedum  cc.maxeduc.4yr  cc.citylength_1  cc.isimmigrant  \\\n",
       "0            0            1               0              NaN               0   \n",
       "1            0            1               1             36.0               0   \n",
       "2            0            0               0              7.0               0   \n",
       "3            1            0               0              2.0               1   \n",
       "4            0            1               1             15.0               0   \n",
       "\n",
       "   cc.child18  cc.milstat_1  cc.milstat_3  cc.union  cc.cc16_300_5  \\\n",
       "0         0.0             2             2       0.0              1   \n",
       "1         0.0             2             2       1.0              0   \n",
       "2         0.0             2             2       0.0              0   \n",
       "3         1.0             2             2       NaN              0   \n",
       "4         0.0             2             2       0.0              0   \n",
       "\n",
       "   cc.newsint  cc.ideo7  cc.evanprot  cc.catholic  cc.religiosity  eth.his.p  \\\n",
       "0         2.0       6.0          0.0          0.0            16.0        NaN   \n",
       "1         1.0       7.0          1.0          0.0            16.0        NaN   \n",
       "2         2.0       NaN          0.0          0.0             NaN        NaN   \n",
       "3         1.0       5.0          0.0          0.0            14.0        NaN   \n",
       "4         1.0       1.0          0.0          0.0            11.0        NaN   \n",
       "\n",
       "   relig.evan.pc  demo.popdense  cc.repdum  cc.inddum  \n",
       "0            NaN            NaN        1.0        0.0  \n",
       "1            NaN            NaN        1.0        0.0  \n",
       "2            NaN            NaN        NaN        NaN  \n",
       "3            NaN            NaN        1.0        0.0  \n",
       "4            NaN            NaN        0.0        0.0  "
      ]
     },
     "execution_count": 27,
     "metadata": {},
     "output_type": "execute_result"
    },
    {
     "data": {
      "text/plain": [
       "64320"
      ]
     },
     "execution_count": 27,
     "metadata": {},
     "output_type": "execute_result"
    }
   ],
   "source": [
    "df_s.head()\n",
    "len(df_s)"
   ]
  },
  {
   "cell_type": "code",
   "execution_count": 28,
   "metadata": {},
   "outputs": [
    {
     "data": {
      "text/plain": [
       "Index(['cc.vote16', 'cc.emp.nojob', 'cc.cc16_304', 'cc.faminc', 'crashpc',\n",
       "       'rustpc', 'job.uer', 'econ.mhi', 'econ.hhpov.p', 'taa.wrks.disc95.pcpy',\n",
       "       'cc.cc16_305_3', 'cc.cc16_305_2', 'cc.cc16_305_1', 'cc.cc16_305_7',\n",
       "       'cc.cc16_305_5', 'cc.cc16_305_11', 'cc.cc16_305_6', 'cc.cc16_305_9',\n",
       "       'cc.cc16_305_10', 'cc.cc16_305_4', 'cc.fortunesum',\n",
       "       'mort.ucd.despair.disc95.pdpy', 'cc.cc16_331_2', 'cc.cc16_331_3',\n",
       "       'cc.cc16_331_7', 'cc.cc16_331_1', 'cc.immviewsum', 'cc.cc16_422c',\n",
       "       'cc.cc16_422d', 'cc.cc16_422e', 'cc.cc16_422f', 'cc.raceviewsum',\n",
       "       'cc.cc16_307', 'cc.cc16_351b', 'cc.age', 'cc.sex', 'cc.blackdum',\n",
       "       'cc.whitedum', 'cc.maxeduc.4yr', 'cc.citylength_1', 'cc.isimmigrant',\n",
       "       'cc.child18', 'cc.milstat_1', 'cc.milstat_3', 'cc.union',\n",
       "       'cc.cc16_300_5', 'cc.newsint', 'cc.ideo7', 'cc.evanprot', 'cc.catholic',\n",
       "       'cc.religiosity', 'eth.his.p', 'relig.evan.pc', 'demo.popdense',\n",
       "       'cc.repdum', 'cc.inddum'],\n",
       "      dtype='object')"
      ]
     },
     "execution_count": 28,
     "metadata": {},
     "output_type": "execute_result"
    }
   ],
   "source": [
    "df_s.columns"
   ]
  },
  {
   "cell_type": "markdown",
   "metadata": {},
   "source": [
    "# Split out train/test sets for consistency\n",
    "Neural Nets, Random Forest, etc will use same sets, so result differnces cannot be attributed to different splits"
   ]
  },
  {
   "cell_type": "code",
   "execution_count": 29,
   "metadata": {},
   "outputs": [
    {
     "name": "stdout",
     "output_type": "stream",
     "text": [
      "57888\n",
      "6432\n"
     ]
    }
   ],
   "source": [
    "# split out train/test sets\n",
    "from sklearn.model_selection import train_test_split\n",
    "\n",
    "train,tst = train_test_split(df_s, test_size=0.1)\n",
    "print(str(len(train)))\n",
    "print(str(len(tst)))"
   ]
  },
  {
   "cell_type": "markdown",
   "metadata": {},
   "source": [
    "#  Save train/test and catagorical and continuous column names"
   ]
  },
  {
   "cell_type": "code",
   "execution_count": 30,
   "metadata": {},
   "outputs": [],
   "source": [
    "os.makedirs('tmp', exist_ok=True)\n",
    "\n",
    "trnfile = 'tmp/trn_regid31'\n",
    "tstfile = 'tmp/tst_regid31'\n",
    "jsonfile = 'tmp/catcont_regid3.json'\n",
    "\n",
    "if (useRaw == True):\n",
    "    trnfile = 'tmp/trn_regid31_raw'\n",
    "    tstfile = 'tmp/tst_regid31_raw'\n",
    "    jsonfile = 'tmp/catcont_regid31_raw.json'\n",
    "    \n",
    "train.reset_index(inplace=True,drop=True)\n",
    "train.to_feather(trnfile)\n",
    "\n",
    "tst.reset_index(inplace=True,drop=True)\n",
    "tst.to_feather(tstfile)"
   ]
  },
  {
   "cell_type": "code",
   "execution_count": 31,
   "metadata": {},
   "outputs": [
    {
     "data": {
      "text/plain": [
       "'cc.vote16'"
      ]
     },
     "execution_count": 31,
     "metadata": {},
     "output_type": "execute_result"
    }
   ],
   "source": [
    "columns_dep_var\n",
    "# columns_dep_var.split() #convert to a list"
   ]
  },
  {
   "cell_type": "code",
   "execution_count": 32,
   "metadata": {},
   "outputs": [],
   "source": [
    "import simplejson\n",
    "with open(jsonfile,'w') as f:\n",
    "    json.dump((res_cont,res_cat,columns_dep_var.split()), f)"
   ]
  }
 ],
 "metadata": {
  "kernelspec": {
   "display_name": "Python 3",
   "language": "python",
   "name": "python3"
  },
  "language_info": {
   "codemirror_mode": {
    "name": "ipython",
    "version": 3
   },
   "file_extension": ".py",
   "mimetype": "text/x-python",
   "name": "python",
   "nbconvert_exporter": "python",
   "pygments_lexer": "ipython3",
   "version": "3.6.6"
  },
  "toc": {
   "base_numbering": 1,
   "nav_menu": {},
   "number_sections": true,
   "sideBar": true,
   "skip_h1_title": false,
   "title_cell": "Table of Contents",
   "title_sidebar": "Contents",
   "toc_cell": false,
   "toc_position": {
    "height": "calc(100% - 180px)",
    "left": "10px",
    "top": "150px",
    "width": "472px"
   },
   "toc_section_display": true,
   "toc_window_display": true
  },
  "varInspector": {
   "cols": {
    "lenName": 16,
    "lenType": 16,
    "lenVar": 40
   },
   "kernels_config": {
    "python": {
     "delete_cmd_postfix": "",
     "delete_cmd_prefix": "del ",
     "library": "var_list.py",
     "varRefreshCmd": "print(var_dic_list())"
    },
    "r": {
     "delete_cmd_postfix": ") ",
     "delete_cmd_prefix": "rm(",
     "library": "var_list.r",
     "varRefreshCmd": "cat(var_dic_list()) "
    }
   },
   "position": {
    "height": "341px",
    "left": "55px",
    "right": "20px",
    "top": "419px",
    "width": "408px"
   },
   "types_to_exclude": [
    "module",
    "function",
    "builtin_function_or_method",
    "instance",
    "_Feature"
   ],
   "window_display": true
  }
 },
 "nbformat": 4,
 "nbformat_minor": 2
}
