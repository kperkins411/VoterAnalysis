{
 "cells": [
  {
   "cell_type": "markdown",
   "metadata": {},
   "source": [
    "# Introduction\n",
    "This notebook calculates pValues for the independant variables via bootstrapping.\n",
    "Please be sure to run DataCleaning.ipynb first to prepare the data\n",
    "\n",
    "This notebook based on Fastai V1 ML course"
   ]
  },
  {
   "cell_type": "markdown",
   "metadata": {},
   "source": [
    "## Imports\n",
    "Import libraries and write settings here."
   ]
  },
  {
   "cell_type": "code",
   "execution_count": 1,
   "metadata": {},
   "outputs": [
    {
     "data": {
      "text/html": [
       "<script type=\"text/javascript\">window.PlotlyConfig = {MathJaxConfig: 'local'};</script><script type=\"text/javascript\">if (window.MathJax) {MathJax.Hub.Config({SVG: {font: \"STIX-Web\"}});}</script><script>requirejs.config({paths: { 'plotly': ['https://cdn.plot.ly/plotly-latest.min']},});if(!window._Plotly) {require(['plotly'],function(plotly) {window._Plotly=plotly;});}</script>"
      ],
      "text/vnd.plotly.v1+html": [
       "<script type=\"text/javascript\">window.PlotlyConfig = {MathJaxConfig: 'local'};</script><script type=\"text/javascript\">if (window.MathJax) {MathJax.Hub.Config({SVG: {font: \"STIX-Web\"}});}</script><script>requirejs.config({paths: { 'plotly': ['https://cdn.plot.ly/plotly-latest.min']},});if(!window._Plotly) {require(['plotly'],function(plotly) {window._Plotly=plotly;});}</script>"
      ]
     },
     "metadata": {},
     "output_type": "display_data"
    },
    {
     "data": {
      "text/html": [
       "<script type=\"text/javascript\">window.PlotlyConfig = {MathJaxConfig: 'local'};</script><script type=\"text/javascript\">if (window.MathJax) {MathJax.Hub.Config({SVG: {font: \"STIX-Web\"}});}</script><script>requirejs.config({paths: { 'plotly': ['https://cdn.plot.ly/plotly-latest.min']},});if(!window._Plotly) {require(['plotly'],function(plotly) {window._Plotly=plotly;});}</script>"
      ],
      "text/vnd.plotly.v1+html": [
       "<script type=\"text/javascript\">window.PlotlyConfig = {MathJaxConfig: 'local'};</script><script type=\"text/javascript\">if (window.MathJax) {MathJax.Hub.Config({SVG: {font: \"STIX-Web\"}});}</script><script>requirejs.config({paths: { 'plotly': ['https://cdn.plot.ly/plotly-latest.min']},});if(!window._Plotly) {require(['plotly'],function(plotly) {window._Plotly=plotly;});}</script>"
      ]
     },
     "metadata": {},
     "output_type": "display_data"
    }
   ],
   "source": [
    "from fastai.tabular import *\n",
    "from fastai import *\n",
    "\n",
    "# Data manipulation\n",
    "import pandas as pd\n",
    "import numpy as np\n",
    "\n",
    "# Options for pandas\n",
    "pd.options.display.max_columns = 60\n",
    "pd.options.display.max_rows = 60\n",
    "\n",
    "# Display all cell outputs\n",
    "from IPython.core.interactiveshell import InteractiveShell\n",
    "InteractiveShell.ast_node_interactivity = 'all'\n",
    "\n",
    "from IPython import get_ipython\n",
    "ipython = get_ipython()\n",
    "\n",
    "# autoreload extension\n",
    "if 'autoreload' not in ipython.extension_manager.loaded:\n",
    "    %load_ext autoreload\n",
    "\n",
    "%autoreload 2\n",
    "\n",
    "# Visualizations\n",
    "import plotly.plotly as py\n",
    "import plotly.graph_objs as go\n",
    "from plotly.offline import iplot, init_notebook_mode\n",
    "init_notebook_mode(connected=True)\n",
    "\n",
    "import cufflinks as cf\n",
    "cf.go_offline(connected=True)\n",
    "cf.set_config_file(theme='white')"
   ]
  },
  {
   "cell_type": "markdown",
   "metadata": {},
   "source": [
    "# DETERMINE IF YOU ARE USING RAW OR SCALED\n",
    "Scaled is Zhao's data, continuous variables divided by standard deviation\n",
    "<br>Raw is unscaled raw data"
   ]
  },
  {
   "cell_type": "code",
   "execution_count": 2,
   "metadata": {},
   "outputs": [],
   "source": [
    "useRaw=False\n",
    "\n",
    "outdir = 'pvals'\n",
    "filename='pvals'\n",
    "os.makedirs(outdir, exist_ok=True)\n",
    "\n",
    "# the dependant variable(s)\n",
    "columns_dep_var= ['cc.TrumpGEVote','cc.TrumpPVote', 'cc.vote12.gop']\n",
    "\n",
    "#get the data\n",
    "if (useRaw == True):\n",
    "    df = pd.read_csv('./data/ccesplus.csv',encoding = \"ISO-8859-1\")\n",
    "else:\n",
    "    df = pd.read_csv('./data/ccesplus_fscaled.csv',encoding = \"ISO-8859-1\")"
   ]
  },
  {
   "cell_type": "markdown",
   "metadata": {},
   "source": [
    "# Choose which dependant variable to operate on"
   ]
  },
  {
   "cell_type": "code",
   "execution_count": 3,
   "metadata": {},
   "outputs": [
    {
     "data": {
      "text/plain": [
       "'cc.vote12.gop'"
      ]
     },
     "execution_count": 3,
     "metadata": {},
     "output_type": "execute_result"
    }
   ],
   "source": [
    "dep_var = columns_dep_var[2]\n",
    "dump_these_dep_var_columns=columns_dep_var.copy()\n",
    "dump_these_dep_var_columns.remove(dep_var)\n",
    "dep_var"
   ]
  },
  {
   "cell_type": "markdown",
   "metadata": {},
   "source": [
    "## Get the columns of interest, including all dependent vars"
   ]
  },
  {
   "cell_type": "code",
   "execution_count": 4,
   "metadata": {},
   "outputs": [],
   "source": [
    "all = pd.read_excel('./data/CCESplusVariables.xlsx',encoding = \"ISO-8859-1\")\n",
    "\n",
    "# for every regid=3.1 get the third column (variable name) convert to a list\n",
    "columns = list(all[ (all['regid']==1.1) & (all['exclude']!='t')  ].iloc[:,2])\n",
    "\n",
    "# #strip dependant variables\n",
    "# columns = [col for col in columns if col not in columns_dep_var]\n",
    "# columns"
   ]
  },
  {
   "cell_type": "code",
   "execution_count": 5,
   "metadata": {},
   "outputs": [],
   "source": [
    "#WARNING! 'cc.i.white.educhs not in df! No worries though \n",
    "#its correlated with composed of cc.maxeduc.hs and cc.WhiteDum\n",
    "#so drop it\n",
    "columns.remove('cc.i.white.educhs')"
   ]
  },
  {
   "cell_type": "code",
   "execution_count": 6,
   "metadata": {},
   "outputs": [
    {
     "data": {
      "text/plain": [
       "35"
      ]
     },
     "execution_count": 6,
     "metadata": {},
     "output_type": "execute_result"
    }
   ],
   "source": [
    "len(columns)\n",
    "# columns"
   ]
  },
  {
   "cell_type": "markdown",
   "metadata": {},
   "source": [
    "## Extract just those columns from orig dataframe"
   ]
  },
  {
   "cell_type": "code",
   "execution_count": 7,
   "metadata": {},
   "outputs": [],
   "source": [
    "df = df[columns]"
   ]
  },
  {
   "cell_type": "code",
   "execution_count": 8,
   "metadata": {},
   "outputs": [
    {
     "data": {
      "text/plain": [
       "35"
      ]
     },
     "execution_count": 8,
     "metadata": {},
     "output_type": "execute_result"
    }
   ],
   "source": [
    "len(df.columns)"
   ]
  },
  {
   "cell_type": "markdown",
   "metadata": {},
   "source": [
    "## Remove NaN dependent variable rows\n"
   ]
  },
  {
   "cell_type": "code",
   "execution_count": 9,
   "metadata": {},
   "outputs": [
    {
     "name": "stdout",
     "output_type": "stream",
     "text": [
      "dropping 23710 rows where cc.TrumpGEVote=NaN\n"
     ]
    }
   ],
   "source": [
    "def remove_dep_var_nan_rows(df, col_dep_var, dump_these_dep_var_columns ,silent = False):\n",
    "    \"\"\"\n",
    "    parse df into rows where df.col_dep_var does not have NaNs, \n",
    "    df: dataframe to pull NaN rows out of\n",
    "    col_dep_var: dependent variable\n",
    "    dump_these_dep_var_columns: other dep_var columns that may be highly correlated with dep var\n",
    "    \"\"\"\n",
    "    dftmp= df.copy()\n",
    "    \n",
    "    if(silent is False):\n",
    "        print(f'dropping {(pd.isnull(dftmp[col_dep_var])).sum()} rows where {col_dep_var}=NaN')\n",
    "                      \n",
    "    #dump the NaN rows\n",
    "    dftmp = dftmp[pd.notnull(dftmp[col_dep_var] )]\n",
    "    \n",
    "    #dump the dump_these_dep_var_columns\n",
    "    dftmp.drop(dump_these_dep_var_columns,axis=1,inplace=True);\n",
    "    \n",
    "    return dftmp\n",
    "\n",
    "# pull out the nulls from the column of interest\n",
    "dftmp= remove_dep_var_nan_rows(df, columns_dep_var[0],dump_these_dep_var_columns )"
   ]
  },
  {
   "cell_type": "code",
   "execution_count": 10,
   "metadata": {},
   "outputs": [
    {
     "data": {
      "text/plain": [
       "Index(['cc.emp.nojob', 'cc.CC16_304', 'cc.faminc', 'crashpc', 'rustpc',\n",
       "       'job.uer', 'econ.mhi', 'econ.hhpov.p', 'taa.wrks.disc95.pcpy',\n",
       "       'cc.CC16_305_2', 'mort.ucd.despair.disc95.pdpy', 'cc.immviewsum',\n",
       "       'cc.raceviewsum', 'cc.CC16_307', 'cc.CC16_351B', 'cc.Age', 'cc.Sex',\n",
       "       'cc.BlackDum', 'cc.WhiteDum', 'cc.maxeduc.4yr', 'cc.maxeduc.hs',\n",
       "       'cc.isimmigrant', 'cc.child18', 'cc.union', 'cc.newsint', 'cc.Ideo7',\n",
       "       'cc.EvanProt', 'cc.Catholic', 'cc.Religiosity', 'demo.popdense',\n",
       "       'cc.RepDum', 'cc.IndDum'],\n",
       "      dtype='object')"
      ]
     },
     "execution_count": 10,
     "metadata": {},
     "output_type": "execute_result"
    }
   ],
   "source": [
    "#get a list of the columns to operate on minus the dependant variable\n",
    "columns = dftmp.columns.drop(dep_var)\n",
    "columns"
   ]
  },
  {
   "cell_type": "markdown",
   "metadata": {},
   "source": [
    "## Split out categorical and continuous variables\n",
    "see if fastai can auto do it"
   ]
  },
  {
   "cell_type": "code",
   "execution_count": 11,
   "metadata": {},
   "outputs": [],
   "source": [
    "# #give fastai a shot at splitting cat and cont variables\n",
    "res_cont, res_cat = cont_cat_split(dftmp,max_card=18)"
   ]
  },
  {
   "cell_type": "markdown",
   "metadata": {},
   "source": [
    "## Categorify and Fill Missing"
   ]
  },
  {
   "cell_type": "code",
   "execution_count": 12,
   "metadata": {},
   "outputs": [],
   "source": [
    "#from docs https://docs.fast.ai/tabular.transform.html\n",
    "# tfm = Categorify(cat_names=res_cat, cont_names=res_cont)\n",
    "# tfm(dftmp)"
   ]
  },
  {
   "cell_type": "code",
   "execution_count": 13,
   "metadata": {},
   "outputs": [],
   "source": [
    "tfm1 = FillMissing(cat_names=res_cat, cont_names=res_cont, add_col=False)\n",
    "tfm1(dftmp)"
   ]
  },
  {
   "cell_type": "markdown",
   "metadata": {},
   "source": [
    "## Generate train and test set"
   ]
  },
  {
   "cell_type": "code",
   "execution_count": 14,
   "metadata": {},
   "outputs": [
    {
     "name": "stdout",
     "output_type": "stream",
     "text": [
      "36801\n",
      "4089\n"
     ]
    }
   ],
   "source": [
    "# split out train/test sets\n",
    "from sklearn.model_selection import train_test_split\n",
    "\n",
    "trn=tst=None\n",
    "trn,tst = train_test_split(dftmp, test_size=0.1)\n",
    "print(str(len(trn)))\n",
    "print(str(len(tst)))"
   ]
  },
  {
   "cell_type": "code",
   "execution_count": 15,
   "metadata": {},
   "outputs": [
    {
     "data": {
      "text/plain": [
       "33"
      ]
     },
     "execution_count": 15,
     "metadata": {},
     "output_type": "execute_result"
    }
   ],
   "source": [
    "len(trn.columns)"
   ]
  },
  {
   "cell_type": "code",
   "execution_count": 16,
   "metadata": {},
   "outputs": [],
   "source": [
    "#split out trn_y and tst_y\n",
    "#this is the dep_var, converted to an int\n",
    "trn_y = trn[dep_var].copy()\n",
    "tst_y = tst[dep_var].copy()\n",
    "trn_y.astype('int64');\n",
    "trn_y.astype('int64');\n",
    "\n",
    "trn.drop(dep_var,axis=1,inplace=True);\n",
    "tst.drop(dep_var,axis=1,inplace=True);"
   ]
  },
  {
   "cell_type": "markdown",
   "metadata": {},
   "source": [
    "# Lets get the predictions on valid data"
   ]
  },
  {
   "cell_type": "code",
   "execution_count": 17,
   "metadata": {},
   "outputs": [],
   "source": [
    "import pvals as pv"
   ]
  },
  {
   "cell_type": "code",
   "execution_count": 18,
   "metadata": {},
   "outputs": [],
   "source": [
    "# #get something small to train on\n",
    "# NUMBERSAMPS = 1000\n",
    "# trn_sm = trn[:NUMBERSAMPS]\n",
    "# trn_sm_y= trn_y[:NUMBERSAMPS]\n",
    "# tst_sm = tst[:NUMBERSAMPS]\n",
    "# tst_sm_y = tst[:NUMBERSAMPS]\n",
    "# columns=['cc.raceviewsum']\n",
    "\n",
    "# len(trn_sm),len(trn_sm_y),len(tst_sm) \n",
    "# columns = ['cc.raceviewsum', 'cc.CC16_307']"
   ]
  },
  {
   "cell_type": "code",
   "execution_count": 19,
   "metadata": {},
   "outputs": [
    {
     "name": "stdout",
     "output_type": "stream",
     "text": [
      "\n",
      "correct get_AME for column cc.emp.nojob is 0.0\n",
      "get permuted get_AME for column cc.emp.nojob\n",
      "...........................................................................................\n",
      "\n",
      "correct get_AME for column cc.faminc is -0.010801025262984765\n",
      "get permuted get_AME for column cc.faminc\n",
      "..................................................\n",
      "\n",
      "correct get_AME for column crashpc is 0.0013479136580347717\n",
      "get permuted get_AME for column crashpc\n",
      "..................................................\n",
      "\n",
      "correct get_AME for column rustpc is 0.0031629950837422927\n",
      "get permuted get_AME for column rustpc\n",
      "..................................................\n",
      "\n",
      "correct get_AME for column job.uer is 0.0016896961064124527\n",
      "get permuted get_AME for column job.uer\n",
      "..................................................\n",
      "\n",
      "correct get_AME for column econ.mhi is -0.0008119874697497531\n",
      "get permuted get_AME for column econ.mhi\n",
      "..................................................\n",
      "\n",
      "correct get_AME for column econ.hhpov.p is 0.0020807797697861563\n",
      "get permuted get_AME for column econ.hhpov.p\n",
      "..................................................\n",
      "\n",
      "correct get_AME for column taa.wrks.disc95.pcpy is -0.0006791475174869888\n",
      "get permuted get_AME for column taa.wrks.disc95.pcpy\n",
      "..................................................\n",
      "\n",
      "correct get_AME for column cc.CC16_305_2 is 0.0\n",
      "get permuted get_AME for column cc.CC16_305_2\n",
      "..................................................\n",
      "\n",
      "correct get_AME for column mort.ucd.despair.disc95.pdpy is -0.0039498778845932225\n",
      "get permuted get_AME for column mort.ucd.despair.disc95.pdpy\n",
      "..................................................\n",
      "\n",
      "correct get_AME for column cc.immviewsum is -0.032734489905533515\n",
      "get permuted get_AME for column cc.immviewsum\n",
      "..................................................\n",
      "\n",
      "correct get_AME for column cc.raceviewsum is -0.0641460306107916\n",
      "get permuted get_AME for column cc.raceviewsum\n",
      "..................................................\n",
      "\n",
      "correct get_AME for column cc.CC16_307 is -0.01588224452846032\n",
      "get permuted get_AME for column cc.CC16_307\n",
      "..................................................\n",
      "\n",
      "correct get_AME for column cc.CC16_351B is 0.0\n",
      "get permuted get_AME for column cc.CC16_351B\n",
      ".........................................\n",
      "\n",
      "correct get_AME for column cc.Age is -0.029127293199463944\n",
      "get permuted get_AME for column cc.Age\n",
      "..................................................\n",
      "\n",
      "correct get_AME for column cc.Sex is 0.0\n",
      "get permuted get_AME for column cc.Sex\n",
      "..................................................\n",
      "\n",
      "correct get_AME for column cc.BlackDum is 0.0\n",
      "get permuted get_AME for column cc.BlackDum\n",
      "..................................................\n",
      "\n",
      "correct get_AME for column cc.WhiteDum is 0.0\n",
      "get permuted get_AME for column cc.WhiteDum\n",
      "..................................................\n",
      "\n",
      "correct get_AME for column cc.maxeduc.4yr is 0.0\n",
      "get permuted get_AME for column cc.maxeduc.4yr\n",
      "..................................................\n",
      "\n",
      "correct get_AME for column cc.maxeduc.hs is 0.0\n",
      "get permuted get_AME for column cc.maxeduc.hs\n",
      "..................................................\n",
      "\n",
      "correct get_AME for column cc.isimmigrant is 0.0\n",
      "get permuted get_AME for column cc.isimmigrant\n",
      "..................................................\n",
      "\n",
      "correct get_AME for column cc.child18 is 0.0\n",
      "get permuted get_AME for column cc.child18\n",
      "..................................................\n",
      "\n",
      "correct get_AME for column cc.union is 0.0\n",
      "get permuted get_AME for column cc.union\n",
      "..........................................\n",
      "\n",
      "correct get_AME for column cc.newsint is 0.02971924714367924\n",
      "get permuted get_AME for column cc.newsint\n",
      "..................................................\n",
      "\n",
      "correct get_AME for column cc.Ideo7 is -0.12213328387626632\n",
      "get permuted get_AME for column cc.Ideo7\n",
      "..................................................\n",
      "\n",
      "correct get_AME for column cc.EvanProt is 0.0\n",
      "get permuted get_AME for column cc.EvanProt\n",
      "..................................................\n",
      "\n",
      "correct get_AME for column cc.Catholic is 0.0\n",
      "get permuted get_AME for column cc.Catholic\n",
      "..................................................\n",
      "\n",
      "correct get_AME for column cc.Religiosity is -0.02093049558594917\n",
      "get permuted get_AME for column cc.Religiosity\n",
      "..................................................\n",
      "\n",
      "correct get_AME for column demo.popdense is 0.011791329191791156\n",
      "get permuted get_AME for column demo.popdense\n",
      "..................................................\n",
      "\n",
      "correct get_AME for column cc.RepDum is 0.0\n",
      "get permuted get_AME for column cc.RepDum\n",
      "..................................................\n",
      "\n",
      "correct get_AME for column cc.IndDum is 0.0\n",
      "get permuted get_AME for column cc.IndDum\n",
      "..................................................\n"
     ]
    }
   ],
   "source": [
    "NUMBERITERATIONS=500\n",
    "res = pv.get_all_pvals(columns,trn,trn_y,tst,NUMBERITERATIONS )"
   ]
  },
  {
   "cell_type": "markdown",
   "metadata": {},
   "source": [
    "# Save, print and plot "
   ]
  },
  {
   "cell_type": "code",
   "execution_count": 20,
   "metadata": {},
   "outputs": [],
   "source": [
    "# save this info to disk\n",
    "pickle.dump(res, open(outdir+\"/\"+filename, 'wb'))"
   ]
  },
  {
   "cell_type": "code",
   "execution_count": 21,
   "metadata": {},
   "outputs": [],
   "source": [
    "# load the model from disk\n",
    "res = pickle.load(open(outdir+\"/\"+filename, 'rb'))\n",
    "\n",
    "# res[0].correct_pred, res[0].permuted_preds\n",
    "# res[0].get_pval()"
   ]
  },
  {
   "cell_type": "code",
   "execution_count": 22,
   "metadata": {},
   "outputs": [
    {
     "name": "stdout",
     "output_type": "stream",
     "text": [
      "Column cc.emp.nojob, p-value=0.03\n",
      "Column cc.CC16_304, p-value=0.0\n",
      "Column cc.faminc, p-value=0.0\n",
      "Column crashpc, p-value=0.0\n",
      "Column rustpc, p-value=0.0\n",
      "Column job.uer, p-value=0.002\n",
      "Column econ.mhi, p-value=0.216\n",
      "Column econ.hhpov.p, p-value=0.176\n",
      "Column taa.wrks.disc95.pcpy, p-value=0.0\n",
      "Column cc.CC16_305_2, p-value=0.046\n",
      "Column mort.ucd.despair.disc95.pdpy, p-value=0.0\n",
      "Column cc.immviewsum, p-value=0.0\n",
      "Column cc.raceviewsum, p-value=0.0\n",
      "Column cc.CC16_307, p-value=0.0\n",
      "Column cc.CC16_351B, p-value=0.044\n",
      "Column cc.Age, p-value=0.0\n",
      "Column cc.Sex, p-value=0.03\n",
      "Column cc.BlackDum, p-value=0.058\n",
      "Column cc.WhiteDum, p-value=0.048\n",
      "Column cc.maxeduc.4yr, p-value=0.048\n",
      "Column cc.maxeduc.hs, p-value=0.052\n",
      "Column cc.isimmigrant, p-value=0.052\n",
      "Column cc.child18, p-value=0.07\n",
      "Column cc.union, p-value=0.056\n",
      "Column cc.newsint, p-value=0.0\n",
      "Column cc.Ideo7, p-value=0.0\n",
      "Column cc.EvanProt, p-value=0.046\n",
      "Column cc.Catholic, p-value=0.04\n",
      "Column cc.Religiosity, p-value=0.0\n",
      "Column demo.popdense, p-value=0.0\n",
      "Column cc.RepDum, p-value=0.04\n",
      "Column cc.IndDum, p-value=0.056\n"
     ]
    }
   ],
   "source": [
    "#print it\n",
    "for item in res:\n",
    "    print(f'Column {item.col}, p-value={item.get_pval()}')"
   ]
  },
  {
   "cell_type": "code",
   "execution_count": 59,
   "metadata": {},
   "outputs": [
    {
     "data": {
      "text/plain": [
       "32"
      ]
     },
     "execution_count": 59,
     "metadata": {},
     "output_type": "execute_result"
    }
   ],
   "source": [
    "len(columns)"
   ]
  },
  {
   "cell_type": "code",
   "execution_count": 61,
   "metadata": {},
   "outputs": [
    {
     "name": "stdout",
     "output_type": "stream",
     "text": [
      "--- line is not-permted calc, others are permuted calcs\n"
     ]
    },
    {
     "data": {
      "image/png": "[encoded data removed]",
      "text/plain": [
       "<Figure size 1080x2160 with 33 Axes>"
      ]
     },
     "metadata": {
      "needs_background": "light"
     },
     "output_type": "display_data"
    }
   ],
   "source": [
    "def draw_histograms(res, variables, n_rows, n_cols):\n",
    "    fig, ax=plt.subplots(nrows=n_rows,ncols=n_cols, figsize=(15,30) )\n",
    "    fig.subplots_adjust(hspace=0.6, wspace=0.6)\n",
    "    for i in range(n_rows):\n",
    "        for j in range(n_cols):\n",
    "            try:\n",
    "                tmp = res[((i)*n_cols)+j]\n",
    "            except:\n",
    "                pass\n",
    "                \n",
    "            ax[i,j].set_title(f'{tmp.col}, pval={tmp.get_pval()}')\n",
    "            ax[i,j].hist(tmp.permuted_preds,bins= 50,ec='red', label='permuted')\n",
    "            ax[i,j].axvline(tmp.correct_pred, color='k', linestyle='dashed', linewidth=1, label='not-permuted')\n",
    "    plt.show()\n",
    "\n",
    "print (\"--- line is not-permuted calc, others are permuted calcs\")\n",
    "draw_histograms(res, columns, 11,3)"
   ]
  }
 ],
 "metadata": {
  "kernelspec": {
   "display_name": "Python 3",
   "language": "python",
   "name": "python3"
  },
  "language_info": {
   "codemirror_mode": {
    "name": "ipython",
    "version": 3
   },
   "file_extension": ".py",
   "mimetype": "text/x-python",
   "name": "python",
   "nbconvert_exporter": "python",
   "pygments_lexer": "ipython3",
   "version": "3.6.6"
  },
  "toc": {
   "base_numbering": 1,
   "nav_menu": {},
   "number_sections": true,
   "sideBar": true,
   "skip_h1_title": false,
   "title_cell": "Table of Contents",
   "title_sidebar": "Contents",
   "toc_cell": false,
   "toc_position": {
    "height": "calc(100% - 180px)",
    "left": "10px",
    "top": "150px",
    "width": "596px"
   },
   "toc_section_display": true,
   "toc_window_display": true
  },
  "varInspector": {
   "cols": {
    "lenName": 16,
    "lenType": 16,
    "lenVar": 40
   },
   "kernels_config": {
    "python": {
     "delete_cmd_postfix": "",
     "delete_cmd_prefix": "del ",
     "library": "var_list.py",
     "varRefreshCmd": "print(var_dic_list())"
    },
    "r": {
     "delete_cmd_postfix": ") ",
     "delete_cmd_prefix": "rm(",
     "library": "var_list.r",
     "varRefreshCmd": "cat(var_dic_list()) "
    }
   },
   "position": {
    "height": "348px",
    "left": "4px",
    "right": "20px",
    "top": "545px",
    "width": "612px"
   },
   "types_to_exclude": [
    "module",
    "function",
    "builtin_function_or_method",
    "instance",
    "_Feature"
   ],
   "window_display": true
  }
 },
 "nbformat": 4,
 "nbformat_minor": 2
}
